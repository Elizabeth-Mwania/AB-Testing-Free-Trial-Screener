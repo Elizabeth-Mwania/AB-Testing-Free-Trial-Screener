{
 "cells": [
  {
   "cell_type": "markdown",
   "metadata": {},
   "source": [
    "# Measuring Variability  \n",
    "\n",
    "This csv file below contains rough estimates of the baseline values for these metrics (again, these numbers have been changed from Udacity's true numbers).  \n",
    "\n",
    "For each of the metrics the standard deviation is calculated for **a sample size of 5000 unique cookies** visiting the course overview page."
   ]
  },
  {
   "cell_type": "markdown",
   "metadata": {},
   "source": [
    "## baseline values"
   ]
  },
  {
   "cell_type": "code",
   "execution_count": 1,
   "metadata": {},
   "outputs": [
    {
     "data": {
      "application/vnd.microsoft.datawrangler.viewer.v0+json": {
       "columns": [
        {
         "name": "index",
         "rawType": "int64",
         "type": "integer"
        },
        {
         "name": "0",
         "rawType": "object",
         "type": "string"
        },
        {
         "name": "1",
         "rawType": "float64",
         "type": "float"
        }
       ],
       "conversionMethod": "pd.DataFrame",
       "ref": "59bf7c65-56ee-44cf-80a2-c4102a5ab25d",
       "rows": [
        [
         "0",
         "Unique cookies to view course overview page per day:",
         "40000.0"
        ],
        [
         "1",
         "Unique cookies to click \"Start free trial\" per day:",
         "3200.0"
        ],
        [
         "2",
         "Enrollments per day:",
         "660.0"
        ],
        [
         "3",
         "Click-through-probability on \"Start free trial\":",
         "0.08"
        ],
        [
         "4",
         "Probability of enrolling, given click:",
         "0.20625"
        ],
        [
         "5",
         "Probability of payment, given enroll:",
         "0.53"
        ],
        [
         "6",
         "Probability of payment, given click",
         "0.1093125"
        ]
       ],
       "shape": {
        "columns": 2,
        "rows": 7
       }
      },
      "text/html": [
       "<div>\n",
       "<style scoped>\n",
       "    .dataframe tbody tr th:only-of-type {\n",
       "        vertical-align: middle;\n",
       "    }\n",
       "\n",
       "    .dataframe tbody tr th {\n",
       "        vertical-align: top;\n",
       "    }\n",
       "\n",
       "    .dataframe thead th {\n",
       "        text-align: right;\n",
       "    }\n",
       "</style>\n",
       "<table border=\"1\" class=\"dataframe\">\n",
       "  <thead>\n",
       "    <tr style=\"text-align: right;\">\n",
       "      <th></th>\n",
       "      <th>0</th>\n",
       "      <th>1</th>\n",
       "    </tr>\n",
       "  </thead>\n",
       "  <tbody>\n",
       "    <tr>\n",
       "      <th>0</th>\n",
       "      <td>Unique cookies to view course overview page pe...</td>\n",
       "      <td>40000.000000</td>\n",
       "    </tr>\n",
       "    <tr>\n",
       "      <th>1</th>\n",
       "      <td>Unique cookies to click \"Start free trial\" per...</td>\n",
       "      <td>3200.000000</td>\n",
       "    </tr>\n",
       "    <tr>\n",
       "      <th>2</th>\n",
       "      <td>Enrollments per day:</td>\n",
       "      <td>660.000000</td>\n",
       "    </tr>\n",
       "    <tr>\n",
       "      <th>3</th>\n",
       "      <td>Click-through-probability on \"Start free trial\":</td>\n",
       "      <td>0.080000</td>\n",
       "    </tr>\n",
       "    <tr>\n",
       "      <th>4</th>\n",
       "      <td>Probability of enrolling, given click:</td>\n",
       "      <td>0.206250</td>\n",
       "    </tr>\n",
       "    <tr>\n",
       "      <th>5</th>\n",
       "      <td>Probability of payment, given enroll:</td>\n",
       "      <td>0.530000</td>\n",
       "    </tr>\n",
       "    <tr>\n",
       "      <th>6</th>\n",
       "      <td>Probability of payment, given click</td>\n",
       "      <td>0.109313</td>\n",
       "    </tr>\n",
       "  </tbody>\n",
       "</table>\n",
       "</div>"
      ],
      "text/plain": [
       "                                                   0             1\n",
       "0  Unique cookies to view course overview page pe...  40000.000000\n",
       "1  Unique cookies to click \"Start free trial\" per...   3200.000000\n",
       "2                               Enrollments per day:    660.000000\n",
       "3   Click-through-probability on \"Start free trial\":      0.080000\n",
       "4             Probability of enrolling, given click:      0.206250\n",
       "5              Probability of payment, given enroll:      0.530000\n",
       "6                Probability of payment, given click      0.109313"
      ]
     },
     "execution_count": 1,
     "metadata": {},
     "output_type": "execute_result"
    }
   ],
   "source": [
    "#import packages\n",
    "import pandas as pd \n",
    "import numpy as np \n",
    "import matplotlib.pyplot as plt\n",
    "\n",
    "#import csv file\n",
    "baseline = pd.read_csv('data/Final Project Baseline Values.csv', header=None)\n",
    "baseline"
   ]
  },
  {
   "cell_type": "code",
   "execution_count": 2,
   "metadata": {
    "scrolled": true
   },
   "outputs": [
    {
     "data": {
      "application/vnd.microsoft.datawrangler.viewer.v0+json": {
       "columns": [
        {
         "name": "index",
         "rawType": "int64",
         "type": "integer"
        },
        {
         "name": "Metrics",
         "rawType": "object",
         "type": "string"
        },
        {
         "name": "Estimator",
         "rawType": "float64",
         "type": "float"
        },
        {
         "name": "dmin",
         "rawType": "float64",
         "type": "float"
        }
       ],
       "conversionMethod": "pd.DataFrame",
       "ref": "65968d14-8adb-431e-b165-75e109a6e297",
       "rows": [
        [
         "0",
         "cookies",
         "40000.0",
         "3000.0"
        ],
        [
         "1",
         "cliks",
         "3200.0",
         "240.0"
        ],
        [
         "2",
         "user-id",
         "660.0",
         "-50.0"
        ],
        [
         "3",
         "click-through-probability",
         "0.08",
         "0.01"
        ],
        [
         "4",
         "gross conversion",
         "0.20625",
         "-0.01"
        ],
        [
         "5",
         "retention",
         "0.53",
         "0.01"
        ],
        [
         "6",
         "net conversion",
         "0.1093125",
         "0.0075"
        ]
       ],
       "shape": {
        "columns": 3,
        "rows": 7
       }
      },
      "text/html": [
       "<div>\n",
       "<style scoped>\n",
       "    .dataframe tbody tr th:only-of-type {\n",
       "        vertical-align: middle;\n",
       "    }\n",
       "\n",
       "    .dataframe tbody tr th {\n",
       "        vertical-align: top;\n",
       "    }\n",
       "\n",
       "    .dataframe thead th {\n",
       "        text-align: right;\n",
       "    }\n",
       "</style>\n",
       "<table border=\"1\" class=\"dataframe\">\n",
       "  <thead>\n",
       "    <tr style=\"text-align: right;\">\n",
       "      <th></th>\n",
       "      <th>Metrics</th>\n",
       "      <th>Estimator</th>\n",
       "      <th>dmin</th>\n",
       "    </tr>\n",
       "  </thead>\n",
       "  <tbody>\n",
       "    <tr>\n",
       "      <th>0</th>\n",
       "      <td>cookies</td>\n",
       "      <td>40000.000000</td>\n",
       "      <td>3000.0000</td>\n",
       "    </tr>\n",
       "    <tr>\n",
       "      <th>1</th>\n",
       "      <td>cliks</td>\n",
       "      <td>3200.000000</td>\n",
       "      <td>240.0000</td>\n",
       "    </tr>\n",
       "    <tr>\n",
       "      <th>2</th>\n",
       "      <td>user-id</td>\n",
       "      <td>660.000000</td>\n",
       "      <td>-50.0000</td>\n",
       "    </tr>\n",
       "    <tr>\n",
       "      <th>3</th>\n",
       "      <td>click-through-probability</td>\n",
       "      <td>0.080000</td>\n",
       "      <td>0.0100</td>\n",
       "    </tr>\n",
       "    <tr>\n",
       "      <th>4</th>\n",
       "      <td>gross conversion</td>\n",
       "      <td>0.206250</td>\n",
       "      <td>-0.0100</td>\n",
       "    </tr>\n",
       "    <tr>\n",
       "      <th>5</th>\n",
       "      <td>retention</td>\n",
       "      <td>0.530000</td>\n",
       "      <td>0.0100</td>\n",
       "    </tr>\n",
       "    <tr>\n",
       "      <th>6</th>\n",
       "      <td>net conversion</td>\n",
       "      <td>0.109313</td>\n",
       "      <td>0.0075</td>\n",
       "    </tr>\n",
       "  </tbody>\n",
       "</table>\n",
       "</div>"
      ],
      "text/plain": [
       "                     Metrics     Estimator       dmin\n",
       "0                    cookies  40000.000000  3000.0000\n",
       "1                      cliks   3200.000000   240.0000\n",
       "2                    user-id    660.000000   -50.0000\n",
       "3  click-through-probability      0.080000     0.0100\n",
       "4           gross conversion      0.206250    -0.0100\n",
       "5                  retention      0.530000     0.0100\n",
       "6             net conversion      0.109313     0.0075"
      ]
     },
     "execution_count": 2,
     "metadata": {},
     "output_type": "execute_result"
    }
   ],
   "source": [
    "# adjust the dataset \n",
    "baseline.columns = ['Metrics','Estimator']\n",
    "baseline['Metrics'] = ['cookies', 'cliks', 'user-id','click-through-probability','gross conversion','retention','net conversion']\n",
    "baseline['dmin'] = [3000, 240, -50, 0.01, -0.01, 0.01, 0.0075]\n",
    "baseline"
   ]
  },
  {
   "cell_type": "markdown",
   "metadata": {},
   "source": [
    "## scaled estimator\n",
    "\n",
    "Since we have already set the sample size of 5000 unique cookies, we should calculate the estimated data for clicks, user-id, which are necessary for us to get the standard deviation in the certain sample size."
   ]
  },
  {
   "cell_type": "code",
   "execution_count": 3,
   "metadata": {},
   "outputs": [
    {
     "data": {
      "application/vnd.microsoft.datawrangler.viewer.v0+json": {
       "columns": [
        {
         "name": "index",
         "rawType": "int64",
         "type": "integer"
        },
        {
         "name": "Metrics",
         "rawType": "object",
         "type": "string"
        },
        {
         "name": "Estimator",
         "rawType": "float64",
         "type": "float"
        },
        {
         "name": "dmin",
         "rawType": "float64",
         "type": "float"
        },
        {
         "name": "Scaled Estimator",
         "rawType": "float64",
         "type": "float"
        }
       ],
       "conversionMethod": "pd.DataFrame",
       "ref": "0bc2e4bc-0595-4317-878c-0ac4bb2e34c5",
       "rows": [
        [
         "0",
         "cookies",
         "40000.0",
         "3000.0",
         "5000.0"
        ],
        [
         "1",
         "cliks",
         "3200.0",
         "240.0",
         "400.0"
        ],
        [
         "2",
         "user-id",
         "660.0",
         "-50.0",
         "82.5"
        ],
        [
         "3",
         "click-through-probability",
         "0.08",
         "0.01",
         null
        ],
        [
         "4",
         "gross conversion",
         "0.20625",
         "-0.01",
         null
        ],
        [
         "5",
         "retention",
         "0.53",
         "0.01",
         null
        ],
        [
         "6",
         "net conversion",
         "0.1093125",
         "0.0075",
         null
        ]
       ],
       "shape": {
        "columns": 4,
        "rows": 7
       }
      },
      "text/html": [
       "<div>\n",
       "<style scoped>\n",
       "    .dataframe tbody tr th:only-of-type {\n",
       "        vertical-align: middle;\n",
       "    }\n",
       "\n",
       "    .dataframe tbody tr th {\n",
       "        vertical-align: top;\n",
       "    }\n",
       "\n",
       "    .dataframe thead th {\n",
       "        text-align: right;\n",
       "    }\n",
       "</style>\n",
       "<table border=\"1\" class=\"dataframe\">\n",
       "  <thead>\n",
       "    <tr style=\"text-align: right;\">\n",
       "      <th></th>\n",
       "      <th>Metrics</th>\n",
       "      <th>Estimator</th>\n",
       "      <th>dmin</th>\n",
       "      <th>Scaled Estimator</th>\n",
       "    </tr>\n",
       "  </thead>\n",
       "  <tbody>\n",
       "    <tr>\n",
       "      <th>0</th>\n",
       "      <td>cookies</td>\n",
       "      <td>40000.000000</td>\n",
       "      <td>3000.0000</td>\n",
       "      <td>5000.0</td>\n",
       "    </tr>\n",
       "    <tr>\n",
       "      <th>1</th>\n",
       "      <td>cliks</td>\n",
       "      <td>3200.000000</td>\n",
       "      <td>240.0000</td>\n",
       "      <td>400.0</td>\n",
       "    </tr>\n",
       "    <tr>\n",
       "      <th>2</th>\n",
       "      <td>user-id</td>\n",
       "      <td>660.000000</td>\n",
       "      <td>-50.0000</td>\n",
       "      <td>82.5</td>\n",
       "    </tr>\n",
       "    <tr>\n",
       "      <th>3</th>\n",
       "      <td>click-through-probability</td>\n",
       "      <td>0.080000</td>\n",
       "      <td>0.0100</td>\n",
       "      <td>NaN</td>\n",
       "    </tr>\n",
       "    <tr>\n",
       "      <th>4</th>\n",
       "      <td>gross conversion</td>\n",
       "      <td>0.206250</td>\n",
       "      <td>-0.0100</td>\n",
       "      <td>NaN</td>\n",
       "    </tr>\n",
       "    <tr>\n",
       "      <th>5</th>\n",
       "      <td>retention</td>\n",
       "      <td>0.530000</td>\n",
       "      <td>0.0100</td>\n",
       "      <td>NaN</td>\n",
       "    </tr>\n",
       "    <tr>\n",
       "      <th>6</th>\n",
       "      <td>net conversion</td>\n",
       "      <td>0.109313</td>\n",
       "      <td>0.0075</td>\n",
       "      <td>NaN</td>\n",
       "    </tr>\n",
       "  </tbody>\n",
       "</table>\n",
       "</div>"
      ],
      "text/plain": [
       "                     Metrics     Estimator       dmin  Scaled Estimator\n",
       "0                    cookies  40000.000000  3000.0000            5000.0\n",
       "1                      cliks   3200.000000   240.0000             400.0\n",
       "2                    user-id    660.000000   -50.0000              82.5\n",
       "3  click-through-probability      0.080000     0.0100               NaN\n",
       "4           gross conversion      0.206250    -0.0100               NaN\n",
       "5                  retention      0.530000     0.0100               NaN\n",
       "6             net conversion      0.109313     0.0075               NaN"
      ]
     },
     "execution_count": 3,
     "metadata": {},
     "output_type": "execute_result"
    }
   ],
   "source": [
    "# insert column\n",
    "baseline['Scaled Estimator'] = np.nan\n",
    "\n",
    "# scaled fraction \n",
    "fraction = 5000/40000\n",
    "\n",
    "for i in range(3):\n",
    "    baseline.loc[i,'Scaled Estimator'] = baseline['Estimator'][i]*fraction\n",
    "    \n",
    "baseline"
   ]
  },
  {
   "cell_type": "markdown",
   "metadata": {},
   "source": [
    "## Assumption  \n",
    "\n",
    "Now, we can calculate the standard deviation of gross conversion, retention, and net conversion. And there is an assumption that we should make. For those three propability metrics, we assume their distributions are approximately normal (binomial distribution) because the scaled estimators are large (Central Limit Theorem). \n",
    "\n",
    "However, if we are not sure. We can also test it using the normal approximation, i.e np>10 and np(1-p)>10"
   ]
  },
  {
   "cell_type": "code",
   "execution_count": 4,
   "metadata": {},
   "outputs": [
    {
     "name": "stdout",
     "output_type": "stream",
     "text": [
      "gross conversion :  n = 400.0 is valid\n",
      "retention :  n = 82.5 is valid\n",
      "net conversion :  n = 400.0 is valid\n"
     ]
    }
   ],
   "source": [
    "# the normal approximation function\n",
    "def normal_A(n,p,metric):\n",
    "    if 10 < n*p and 10 < n*(1-p):\n",
    "        print(metric,\":  n =\", n, \"is valid\")\n",
    "    else:\n",
    "        print(metric,\":  n =\", n, \"is not valid\")\n",
    "\n",
    "# check \n",
    "# remember the sample size for different metrics are different\n",
    "for i,j in zip([1,2,1],[4,5,6]):\n",
    "    normal_A (baseline.loc[i, \"Scaled Estimator\"], baseline.loc[j,\"Estimator\"], baseline.loc[j,\"Metrics\"])"
   ]
  },
  {
   "cell_type": "markdown",
   "metadata": {},
   "source": [
    "## standard deviation\n",
    "\n",
    "Now we can set the assumption that these three metrics are approximately binomial distribution.   \n",
    "In binomial distribution, **the standard deviation = sqrt(p(1-p)/n)**"
   ]
  },
  {
   "cell_type": "code",
   "execution_count": 5,
   "metadata": {},
   "outputs": [
    {
     "data": {
      "application/vnd.microsoft.datawrangler.viewer.v0+json": {
       "columns": [
        {
         "name": "index",
         "rawType": "int64",
         "type": "integer"
        },
        {
         "name": "Metrics",
         "rawType": "object",
         "type": "string"
        },
        {
         "name": "Estimator",
         "rawType": "float64",
         "type": "float"
        },
        {
         "name": "dmin",
         "rawType": "float64",
         "type": "float"
        },
        {
         "name": "Standard Deviation",
         "rawType": "float64",
         "type": "float"
        },
        {
         "name": "Scaled Estimator",
         "rawType": "float64",
         "type": "float"
        }
       ],
       "conversionMethod": "pd.DataFrame",
       "ref": "ce95dd75-509f-4e98-aa5f-a5ea1f43801e",
       "rows": [
        [
         "0",
         "cookies",
         "40000.0",
         "3000.0",
         null,
         "5000.0"
        ],
        [
         "1",
         "cliks",
         "3200.0",
         "240.0",
         null,
         "400.0"
        ],
        [
         "2",
         "user-id",
         "660.0",
         "-50.0",
         null,
         "82.5"
        ],
        [
         "3",
         "click-through-probability",
         "0.08",
         "0.01",
         null,
         null
        ],
        [
         "4",
         "gross conversion",
         "0.20625",
         "-0.01",
         "0.020230604137049392",
         null
        ],
        [
         "5",
         "retention",
         "0.53",
         "0.01",
         "0.05494901217850908",
         null
        ],
        [
         "6",
         "net conversion",
         "0.1093125",
         "0.0075",
         "0.01560154458248846",
         null
        ]
       ],
       "shape": {
        "columns": 5,
        "rows": 7
       }
      },
      "text/html": [
       "<div>\n",
       "<style scoped>\n",
       "    .dataframe tbody tr th:only-of-type {\n",
       "        vertical-align: middle;\n",
       "    }\n",
       "\n",
       "    .dataframe tbody tr th {\n",
       "        vertical-align: top;\n",
       "    }\n",
       "\n",
       "    .dataframe thead th {\n",
       "        text-align: right;\n",
       "    }\n",
       "</style>\n",
       "<table border=\"1\" class=\"dataframe\">\n",
       "  <thead>\n",
       "    <tr style=\"text-align: right;\">\n",
       "      <th></th>\n",
       "      <th>Metrics</th>\n",
       "      <th>Estimator</th>\n",
       "      <th>dmin</th>\n",
       "      <th>Standard Deviation</th>\n",
       "      <th>Scaled Estimator</th>\n",
       "    </tr>\n",
       "  </thead>\n",
       "  <tbody>\n",
       "    <tr>\n",
       "      <th>0</th>\n",
       "      <td>cookies</td>\n",
       "      <td>40000.000000</td>\n",
       "      <td>3000.0000</td>\n",
       "      <td>NaN</td>\n",
       "      <td>5000.0</td>\n",
       "    </tr>\n",
       "    <tr>\n",
       "      <th>1</th>\n",
       "      <td>cliks</td>\n",
       "      <td>3200.000000</td>\n",
       "      <td>240.0000</td>\n",
       "      <td>NaN</td>\n",
       "      <td>400.0</td>\n",
       "    </tr>\n",
       "    <tr>\n",
       "      <th>2</th>\n",
       "      <td>user-id</td>\n",
       "      <td>660.000000</td>\n",
       "      <td>-50.0000</td>\n",
       "      <td>NaN</td>\n",
       "      <td>82.5</td>\n",
       "    </tr>\n",
       "    <tr>\n",
       "      <th>3</th>\n",
       "      <td>click-through-probability</td>\n",
       "      <td>0.080000</td>\n",
       "      <td>0.0100</td>\n",
       "      <td>NaN</td>\n",
       "      <td>NaN</td>\n",
       "    </tr>\n",
       "    <tr>\n",
       "      <th>4</th>\n",
       "      <td>gross conversion</td>\n",
       "      <td>0.206250</td>\n",
       "      <td>-0.0100</td>\n",
       "      <td>0.020231</td>\n",
       "      <td>NaN</td>\n",
       "    </tr>\n",
       "    <tr>\n",
       "      <th>5</th>\n",
       "      <td>retention</td>\n",
       "      <td>0.530000</td>\n",
       "      <td>0.0100</td>\n",
       "      <td>0.054949</td>\n",
       "      <td>NaN</td>\n",
       "    </tr>\n",
       "    <tr>\n",
       "      <th>6</th>\n",
       "      <td>net conversion</td>\n",
       "      <td>0.109313</td>\n",
       "      <td>0.0075</td>\n",
       "      <td>0.015602</td>\n",
       "      <td>NaN</td>\n",
       "    </tr>\n",
       "  </tbody>\n",
       "</table>\n",
       "</div>"
      ],
      "text/plain": [
       "                     Metrics     Estimator       dmin  Standard Deviation  \\\n",
       "0                    cookies  40000.000000  3000.0000                 NaN   \n",
       "1                      cliks   3200.000000   240.0000                 NaN   \n",
       "2                    user-id    660.000000   -50.0000                 NaN   \n",
       "3  click-through-probability      0.080000     0.0100                 NaN   \n",
       "4           gross conversion      0.206250    -0.0100            0.020231   \n",
       "5                  retention      0.530000     0.0100            0.054949   \n",
       "6             net conversion      0.109313     0.0075            0.015602   \n",
       "\n",
       "   Scaled Estimator  \n",
       "0            5000.0  \n",
       "1             400.0  \n",
       "2              82.5  \n",
       "3               NaN  \n",
       "4               NaN  \n",
       "5               NaN  \n",
       "6               NaN  "
      ]
     },
     "execution_count": 5,
     "metadata": {},
     "output_type": "execute_result"
    }
   ],
   "source": [
    "# inset column\n",
    "baseline.insert(3, 'Standard Deviation', np.nan)\n",
    "\n",
    "# the std function\n",
    "import math\n",
    "def b_std(n,p):\n",
    "    return math.sqrt(p*(1-p)/n)\n",
    "\n",
    "# calculation\n",
    "for i,j in zip([1,2,1],[4,5,6]):\n",
    "    baseline.loc[j,'Standard Deviation'] = b_std(baseline.loc[i, \"Scaled Estimator\"], baseline.loc[j,\"Estimator\"])\n",
    "\n",
    "baseline"
   ]
  },
  {
   "cell_type": "markdown",
   "metadata": {},
   "source": [
    "**Notice:** Since the denominator for gross conversion and net conversion is the number of clicks, which is also the unit of diversion, we can expect their analytical variance is close to the empirical variance. However, for the rentention, we recommend to collect an empirical variance. Based on the difference between the denominator and the unit of diversion, we could expect the empirical variance of the retention would be higher than the analyticaal variance."
   ]
  },
  {
   "cell_type": "markdown",
   "metadata": {},
   "source": [
    "# Sizing"
   ]
  },
  {
   "cell_type": "markdown",
   "metadata": {},
   "source": [
    "## Choosing Number of Samples given Power"
   ]
  },
  {
   "cell_type": "markdown",
   "metadata": {},
   "source": [
    "### calculation"
   ]
  },
  {
   "cell_type": "markdown",
   "metadata": {},
   "source": [
    "We set the alpha to be 0.05 and the statistical power to be 0.80 (i.e. beta is 0.20).  \n",
    "And we applied an online caculator:"
   ]
  },
  {
   "cell_type": "markdown",
   "metadata": {},
   "source": [
    "gross conversion:\n",
    "<img src=\"figure/gross_conversion.png\">"
   ]
  },
  {
   "cell_type": "markdown",
   "metadata": {},
   "source": [
    "retention:\n",
    "<img src=\"figure/retention.png\">"
   ]
  },
  {
   "cell_type": "markdown",
   "metadata": {},
   "source": [
    "net conversion:\n",
    "<img src=\"figure/net_conversion.png\">"
   ]
  },
  {
   "cell_type": "markdown",
   "metadata": {},
   "source": [
    "Therefore, we can calculate how many pageviews we need for each metric:\n",
    "\n",
    "1. Gross Conversion \n",
    "  - Baseline Conversion: 20.625%\n",
    "  - Minimum Detectable Effect: 1%\n",
    "  - Alpha: 5%\n",
    "  - Beta: 20% \n",
    "  - Sample Size = 25,835 enrollments/group\n",
    "  - Number of groups = 2 (experiment & control)\n",
    "  - Total sample size = 2*25,835 = 51,670 clicks\n",
    "  - Clicks/Pageview: 3200/40000 = 0.08 clicks/pageview\n",
    "  - Pageviews Required = 51,670/0.08 = 645,875  \n",
    "  \n",
    "  \n",
    "2. Retention \n",
    "  - Baseline Conversion: 53.000%\n",
    "  - Minimum Detectable Effect: 1%\n",
    "  - Alpha: 5%\n",
    "  - Beta: 20% \n",
    "  - Sample Size = 39,115 enrollments/group\n",
    "  - Number of groups = 2 (experiment & control)\n",
    "  - Total sample size = 2*39,115 = 78,230 enrollments\n",
    "  - user-id(enrollments)/Pageview: 660/40000 = 0.0165 enrollments/pageview\n",
    "  - Pageviews Required = 78,230/0.0165 = 4,741,212  \n",
    "  \n",
    "  \n",
    "3. Net Conversion\n",
    "  - Baseline Conversion: 10.931%\n",
    "  - Minimum Detectable Effect: 0.75%\n",
    "  - Alpha: 5%\n",
    "  - Beta: 20% \n",
    "  - Sample Size = 27,413 enrollments/group\n",
    "  - Number of groups = 2 (experiment & control)\n",
    "  - Total sample size = 2*27,413 = 54,826 clicks\n",
    "  - Clicks/Pageview: 3200/40000 = 0.08 clicks/pageview\n",
    "  - Pageviews Required = 54,826/0.08 = 685,325"
   ]
  },
  {
   "cell_type": "code",
   "execution_count": 6,
   "metadata": {},
   "outputs": [
    {
     "data": {
      "application/vnd.microsoft.datawrangler.viewer.v0+json": {
       "columns": [
        {
         "name": "index",
         "rawType": "int64",
         "type": "integer"
        },
        {
         "name": "Metrics",
         "rawType": "object",
         "type": "string"
        },
        {
         "name": "Estimator",
         "rawType": "float64",
         "type": "float"
        },
        {
         "name": "dmin",
         "rawType": "float64",
         "type": "float"
        },
        {
         "name": "Standard Deviation",
         "rawType": "float64",
         "type": "float"
        },
        {
         "name": "Scaled Estimator",
         "rawType": "float64",
         "type": "float"
        },
        {
         "name": "samplesize",
         "rawType": "float64",
         "type": "float"
        }
       ],
       "conversionMethod": "pd.DataFrame",
       "ref": "cf4dd78a-5d84-43c8-8f0a-a89d50cb4dbc",
       "rows": [
        [
         "0",
         "cookies",
         "40000.0",
         "3000.0",
         null,
         "5000.0",
         null
        ],
        [
         "1",
         "cliks",
         "3200.0",
         "240.0",
         null,
         "400.0",
         null
        ],
        [
         "2",
         "user-id",
         "660.0",
         "-50.0",
         null,
         "82.5",
         null
        ],
        [
         "3",
         "click-through-probability",
         "0.08",
         "0.01",
         null,
         null,
         null
        ],
        [
         "4",
         "gross conversion",
         "0.20625",
         "-0.01",
         "0.020230604137049392",
         null,
         "645875.0"
        ],
        [
         "5",
         "retention",
         "0.53",
         "0.01",
         "0.05494901217850908",
         null,
         "4741212.0"
        ],
        [
         "6",
         "net conversion",
         "0.1093125",
         "0.0075",
         "0.01560154458248846",
         null,
         "685325.0"
        ]
       ],
       "shape": {
        "columns": 6,
        "rows": 7
       }
      },
      "text/html": [
       "<div>\n",
       "<style scoped>\n",
       "    .dataframe tbody tr th:only-of-type {\n",
       "        vertical-align: middle;\n",
       "    }\n",
       "\n",
       "    .dataframe tbody tr th {\n",
       "        vertical-align: top;\n",
       "    }\n",
       "\n",
       "    .dataframe thead th {\n",
       "        text-align: right;\n",
       "    }\n",
       "</style>\n",
       "<table border=\"1\" class=\"dataframe\">\n",
       "  <thead>\n",
       "    <tr style=\"text-align: right;\">\n",
       "      <th></th>\n",
       "      <th>Metrics</th>\n",
       "      <th>Estimator</th>\n",
       "      <th>dmin</th>\n",
       "      <th>Standard Deviation</th>\n",
       "      <th>Scaled Estimator</th>\n",
       "      <th>samplesize</th>\n",
       "    </tr>\n",
       "  </thead>\n",
       "  <tbody>\n",
       "    <tr>\n",
       "      <th>0</th>\n",
       "      <td>cookies</td>\n",
       "      <td>40000.000000</td>\n",
       "      <td>3000.0000</td>\n",
       "      <td>NaN</td>\n",
       "      <td>5000.0</td>\n",
       "      <td>NaN</td>\n",
       "    </tr>\n",
       "    <tr>\n",
       "      <th>1</th>\n",
       "      <td>cliks</td>\n",
       "      <td>3200.000000</td>\n",
       "      <td>240.0000</td>\n",
       "      <td>NaN</td>\n",
       "      <td>400.0</td>\n",
       "      <td>NaN</td>\n",
       "    </tr>\n",
       "    <tr>\n",
       "      <th>2</th>\n",
       "      <td>user-id</td>\n",
       "      <td>660.000000</td>\n",
       "      <td>-50.0000</td>\n",
       "      <td>NaN</td>\n",
       "      <td>82.5</td>\n",
       "      <td>NaN</td>\n",
       "    </tr>\n",
       "    <tr>\n",
       "      <th>3</th>\n",
       "      <td>click-through-probability</td>\n",
       "      <td>0.080000</td>\n",
       "      <td>0.0100</td>\n",
       "      <td>NaN</td>\n",
       "      <td>NaN</td>\n",
       "      <td>NaN</td>\n",
       "    </tr>\n",
       "    <tr>\n",
       "      <th>4</th>\n",
       "      <td>gross conversion</td>\n",
       "      <td>0.206250</td>\n",
       "      <td>-0.0100</td>\n",
       "      <td>0.020231</td>\n",
       "      <td>NaN</td>\n",
       "      <td>645875.0</td>\n",
       "    </tr>\n",
       "    <tr>\n",
       "      <th>5</th>\n",
       "      <td>retention</td>\n",
       "      <td>0.530000</td>\n",
       "      <td>0.0100</td>\n",
       "      <td>0.054949</td>\n",
       "      <td>NaN</td>\n",
       "      <td>4741212.0</td>\n",
       "    </tr>\n",
       "    <tr>\n",
       "      <th>6</th>\n",
       "      <td>net conversion</td>\n",
       "      <td>0.109313</td>\n",
       "      <td>0.0075</td>\n",
       "      <td>0.015602</td>\n",
       "      <td>NaN</td>\n",
       "      <td>685325.0</td>\n",
       "    </tr>\n",
       "  </tbody>\n",
       "</table>\n",
       "</div>"
      ],
      "text/plain": [
       "                     Metrics     Estimator       dmin  Standard Deviation  \\\n",
       "0                    cookies  40000.000000  3000.0000                 NaN   \n",
       "1                      cliks   3200.000000   240.0000                 NaN   \n",
       "2                    user-id    660.000000   -50.0000                 NaN   \n",
       "3  click-through-probability      0.080000     0.0100                 NaN   \n",
       "4           gross conversion      0.206250    -0.0100            0.020231   \n",
       "5                  retention      0.530000     0.0100            0.054949   \n",
       "6             net conversion      0.109313     0.0075            0.015602   \n",
       "\n",
       "   Scaled Estimator  samplesize  \n",
       "0            5000.0         NaN  \n",
       "1             400.0         NaN  \n",
       "2              82.5         NaN  \n",
       "3               NaN         NaN  \n",
       "4               NaN    645875.0  \n",
       "5               NaN   4741212.0  \n",
       "6               NaN    685325.0  "
      ]
     },
     "execution_count": 6,
     "metadata": {},
     "output_type": "execute_result"
    }
   ],
   "source": [
    "# inset column\n",
    "baseline['samplesize'] = [np.nan,np.nan,np.nan,np.nan,645875,4741212,685325]\n",
    "\n",
    "baseline"
   ]
  },
  {
   "cell_type": "markdown",
   "metadata": {},
   "source": [
    "Given the calculation above, to test these three hypothesis, we need 4,741,212 pageviews."
   ]
  },
  {
   "cell_type": "markdown",
   "metadata": {},
   "source": [
    "### multiple hypothesis?"
   ]
  },
  {
   "cell_type": "markdown",
   "metadata": {},
   "source": [
    "As we now have three hypothesis, and these three hypothesis are not fully independent. So the false positive rate is likely to be increased. We can solve the multiple hypothesis problem by Bonferroni Correction method, but it still has backward that it will increase the fale negatives. Therefore, we prefer not to solving this problem."
   ]
  },
  {
   "cell_type": "markdown",
   "metadata": {},
   "source": [
    "## Choosing Duration vs. Exposure"
   ]
  },
  {
   "cell_type": "markdown",
   "metadata": {},
   "source": [
    "From the Udacity, given there are 40k pageviews per day, we can first assume we can use 100% of users for this experiment."
   ]
  },
  {
   "cell_type": "code",
   "execution_count": 7,
   "metadata": {},
   "outputs": [
    {
     "name": "stdout",
     "output_type": "stream",
     "text": [
      "for the experiment with gross conversion, retention and net conversion, we need:  119  days\n",
      "for the experiment with gross conversion and net conversion, we need:  17  days\n"
     ]
    }
   ],
   "source": [
    "# gross conversion, retention and net conversion\n",
    "print('for the experiment with gross conversion, retention and net conversion, we need: ', \n",
    "      round(4741212/40000),' days')\n",
    "\n",
    "# gross conversion and net conversion\n",
    "print('for the experiment with gross conversion and net conversion, we need: ', \n",
    "      round(685325/40000),' days')"
   ]
  },
  {
   "cell_type": "markdown",
   "metadata": {},
   "source": [
    "**Notice:** We can see there is a huge difference in experiment duration between using and discarding retention. Therefore, we decide to remove the retention metric for this experiment. Because firstly, using the retention metric will take a long time to conduct this experiment, which will cause opportunity costs(eg. launch more different experiments, spend more time on other feature improvements). Moreover, there will be some business risks that exist if we use the retention metric. For instance, this change will give a worse user experiment decreasing the conversion rate.\n",
    "\n",
    "Also, for the experiment with gross conversion and net conversion, we should reconsider the fraction of Udacity's traffic to be diverted. Considering there might be some seasonal effect for this experiment, 17 days seems not enough for us to certain. Secondly, using full traffic is very costly and risky (opportunity cost & business risk we mentioned above). Diverting a half or lower of traffic will be much safer."
   ]
  },
  {
   "cell_type": "code",
   "execution_count": 8,
   "metadata": {},
   "outputs": [
    {
     "name": "stdout",
     "output_type": "stream",
     "text": [
      "for the experiment using 50% traffic with gross conversion and net conversion, we need:  34  days\n",
      "for the experiment using 45% traffic with gross conversion and net conversion, we need:  38  days\n"
     ]
    }
   ],
   "source": [
    "# gross conversion and net conversion\n",
    "# 50% traffic\n",
    "print('for the experiment using 50% traffic with gross conversion and net conversion, we need: ', \n",
    "      round(685325/(40000*0.5)),' days')\n",
    "\n",
    "# gross conversion and net conversion\n",
    "# 45% traffic\n",
    "print('for the experiment using 45% traffic with gross conversion and net conversion, we need: ', \n",
    "      round(685325/(40000*0.45)),' days')"
   ]
  },
  {
   "cell_type": "markdown",
   "metadata": {},
   "source": [
    "It seems that 38 days are little bit longer, so we will divert 50% traffic for the experiment with gross conversion and net conversion."
   ]
  },
  {
   "cell_type": "markdown",
   "metadata": {},
   "source": [
    "# Analysis"
   ]
  },
  {
   "cell_type": "markdown",
   "metadata": {},
   "source": [
    "Now, we have two datasets from Udacity, one for control group and one for experiment group.\n",
    "\n",
    "The meaning of each column is:\n",
    "\n",
    "- Pageviews: Number of unique cookies to view the course overview page that day.\n",
    "- Clicks: Number of unique cookies to click the course overview page that day.\n",
    "- Enrollments: Number of user-ids to enroll in the free trial that day.\n",
    "- Payments: Number of user-ids who who enrolled on that day to remain enrolled for 14 days and thus make a payment. (Note that the date for this column is the start date, that is, the date of enrollment, rather than the date of the payment. The payment happened 14 days later. Because of this, the enrollments and payments are tracked for 14 fewer days than the other columns.)"
   ]
  },
  {
   "cell_type": "code",
   "execution_count": 9,
   "metadata": {},
   "outputs": [
    {
     "data": {
      "application/vnd.microsoft.datawrangler.viewer.v0+json": {
       "columns": [
        {
         "name": "index",
         "rawType": "int64",
         "type": "integer"
        },
        {
         "name": "Date",
         "rawType": "object",
         "type": "string"
        },
        {
         "name": "Pageviews",
         "rawType": "int64",
         "type": "integer"
        },
        {
         "name": "Clicks",
         "rawType": "int64",
         "type": "integer"
        },
        {
         "name": "Enrollments",
         "rawType": "float64",
         "type": "float"
        },
        {
         "name": "Payments",
         "rawType": "float64",
         "type": "float"
        }
       ],
       "conversionMethod": "pd.DataFrame",
       "ref": "d7a1f6fe-cf58-420f-9607-720d4f3a212f",
       "rows": [
        [
         "0",
         "Sat, Oct 11",
         "7723",
         "687",
         "134.0",
         "70.0"
        ],
        [
         "1",
         "Sun, Oct 12",
         "9102",
         "779",
         "147.0",
         "70.0"
        ],
        [
         "2",
         "Mon, Oct 13",
         "10511",
         "909",
         "167.0",
         "95.0"
        ],
        [
         "3",
         "Tue, Oct 14",
         "9871",
         "836",
         "156.0",
         "105.0"
        ],
        [
         "4",
         "Wed, Oct 15",
         "10014",
         "837",
         "163.0",
         "64.0"
        ]
       ],
       "shape": {
        "columns": 5,
        "rows": 5
       }
      },
      "text/html": [
       "<div>\n",
       "<style scoped>\n",
       "    .dataframe tbody tr th:only-of-type {\n",
       "        vertical-align: middle;\n",
       "    }\n",
       "\n",
       "    .dataframe tbody tr th {\n",
       "        vertical-align: top;\n",
       "    }\n",
       "\n",
       "    .dataframe thead th {\n",
       "        text-align: right;\n",
       "    }\n",
       "</style>\n",
       "<table border=\"1\" class=\"dataframe\">\n",
       "  <thead>\n",
       "    <tr style=\"text-align: right;\">\n",
       "      <th></th>\n",
       "      <th>Date</th>\n",
       "      <th>Pageviews</th>\n",
       "      <th>Clicks</th>\n",
       "      <th>Enrollments</th>\n",
       "      <th>Payments</th>\n",
       "    </tr>\n",
       "  </thead>\n",
       "  <tbody>\n",
       "    <tr>\n",
       "      <th>0</th>\n",
       "      <td>Sat, Oct 11</td>\n",
       "      <td>7723</td>\n",
       "      <td>687</td>\n",
       "      <td>134.0</td>\n",
       "      <td>70.0</td>\n",
       "    </tr>\n",
       "    <tr>\n",
       "      <th>1</th>\n",
       "      <td>Sun, Oct 12</td>\n",
       "      <td>9102</td>\n",
       "      <td>779</td>\n",
       "      <td>147.0</td>\n",
       "      <td>70.0</td>\n",
       "    </tr>\n",
       "    <tr>\n",
       "      <th>2</th>\n",
       "      <td>Mon, Oct 13</td>\n",
       "      <td>10511</td>\n",
       "      <td>909</td>\n",
       "      <td>167.0</td>\n",
       "      <td>95.0</td>\n",
       "    </tr>\n",
       "    <tr>\n",
       "      <th>3</th>\n",
       "      <td>Tue, Oct 14</td>\n",
       "      <td>9871</td>\n",
       "      <td>836</td>\n",
       "      <td>156.0</td>\n",
       "      <td>105.0</td>\n",
       "    </tr>\n",
       "    <tr>\n",
       "      <th>4</th>\n",
       "      <td>Wed, Oct 15</td>\n",
       "      <td>10014</td>\n",
       "      <td>837</td>\n",
       "      <td>163.0</td>\n",
       "      <td>64.0</td>\n",
       "    </tr>\n",
       "  </tbody>\n",
       "</table>\n",
       "</div>"
      ],
      "text/plain": [
       "          Date  Pageviews  Clicks  Enrollments  Payments\n",
       "0  Sat, Oct 11       7723     687        134.0      70.0\n",
       "1  Sun, Oct 12       9102     779        147.0      70.0\n",
       "2  Mon, Oct 13      10511     909        167.0      95.0\n",
       "3  Tue, Oct 14       9871     836        156.0     105.0\n",
       "4  Wed, Oct 15      10014     837        163.0      64.0"
      ]
     },
     "execution_count": 9,
     "metadata": {},
     "output_type": "execute_result"
    }
   ],
   "source": [
    "# import dataset\n",
    "control = pd.read_csv('data/Final Project Results - Control.csv')\n",
    "experiment = pd.read_csv('data/Final Project Results - Experiment.csv')\n",
    "control.head()"
   ]
  },
  {
   "cell_type": "code",
   "execution_count": 150,
   "metadata": {},
   "outputs": [
    {
     "data": {
      "text/html": [
       "<div>\n",
       "<style scoped>\n",
       "    .dataframe tbody tr th:only-of-type {\n",
       "        vertical-align: middle;\n",
       "    }\n",
       "\n",
       "    .dataframe tbody tr th {\n",
       "        vertical-align: top;\n",
       "    }\n",
       "\n",
       "    .dataframe thead th {\n",
       "        text-align: right;\n",
       "    }\n",
       "</style>\n",
       "<table border=\"1\" class=\"dataframe\">\n",
       "  <thead>\n",
       "    <tr style=\"text-align: right;\">\n",
       "      <th></th>\n",
       "      <th>Date</th>\n",
       "      <th>Pageviews</th>\n",
       "      <th>Clicks</th>\n",
       "      <th>Enrollments</th>\n",
       "      <th>Payments</th>\n",
       "    </tr>\n",
       "  </thead>\n",
       "  <tbody>\n",
       "    <tr>\n",
       "      <th>0</th>\n",
       "      <td>Sat, Oct 11</td>\n",
       "      <td>7716</td>\n",
       "      <td>686</td>\n",
       "      <td>105.0</td>\n",
       "      <td>34.0</td>\n",
       "    </tr>\n",
       "    <tr>\n",
       "      <th>1</th>\n",
       "      <td>Sun, Oct 12</td>\n",
       "      <td>9288</td>\n",
       "      <td>785</td>\n",
       "      <td>116.0</td>\n",
       "      <td>91.0</td>\n",
       "    </tr>\n",
       "    <tr>\n",
       "      <th>2</th>\n",
       "      <td>Mon, Oct 13</td>\n",
       "      <td>10480</td>\n",
       "      <td>884</td>\n",
       "      <td>145.0</td>\n",
       "      <td>79.0</td>\n",
       "    </tr>\n",
       "    <tr>\n",
       "      <th>3</th>\n",
       "      <td>Tue, Oct 14</td>\n",
       "      <td>9867</td>\n",
       "      <td>827</td>\n",
       "      <td>138.0</td>\n",
       "      <td>92.0</td>\n",
       "    </tr>\n",
       "    <tr>\n",
       "      <th>4</th>\n",
       "      <td>Wed, Oct 15</td>\n",
       "      <td>9793</td>\n",
       "      <td>832</td>\n",
       "      <td>140.0</td>\n",
       "      <td>94.0</td>\n",
       "    </tr>\n",
       "  </tbody>\n",
       "</table>\n",
       "</div>"
      ],
      "text/plain": [
       "          Date  Pageviews  Clicks  Enrollments  Payments\n",
       "0  Sat, Oct 11       7716     686        105.0      34.0\n",
       "1  Sun, Oct 12       9288     785        116.0      91.0\n",
       "2  Mon, Oct 13      10480     884        145.0      79.0\n",
       "3  Tue, Oct 14       9867     827        138.0      92.0\n",
       "4  Wed, Oct 15       9793     832        140.0      94.0"
      ]
     },
     "execution_count": 150,
     "metadata": {},
     "output_type": "execute_result"
    }
   ],
   "source": [
    "experiment.head()"
   ]
  },
  {
   "cell_type": "code",
   "execution_count": 10,
   "metadata": {},
   "outputs": [
    {
     "name": "stdout",
     "output_type": "stream",
     "text": [
      "control group duration:\n",
      " Date           37\n",
      "Pageviews      37\n",
      "Clicks         37\n",
      "Enrollments    23\n",
      "Payments       23\n",
      "dtype: int64\n",
      "experiment group duration:\n",
      " Date           37\n",
      "Pageviews      37\n",
      "Clicks         37\n",
      "Enrollments    23\n",
      "Payments       23\n",
      "dtype: int64\n"
     ]
    }
   ],
   "source": [
    "# the duration for this experiment \n",
    "print('control group duration:\\n', control.count())\n",
    "print('experiment group duration:\\n', experiment.count())"
   ]
  },
  {
   "cell_type": "code",
   "execution_count": 11,
   "metadata": {},
   "outputs": [
    {
     "name": "stdout",
     "output_type": "stream",
     "text": [
      "control size:  345543\n",
      "experiment size:  344660\n",
      "sample size:  690203\n"
     ]
    }
   ],
   "source": [
    "# calculate the sample size for this dataset that Udacity provide us\n",
    "print('control size: ' , control['Pageviews'].sum())\n",
    "print('experiment size: ' , experiment['Pageviews'].sum())\n",
    "print('sample size: ' , control['Pageviews'].sum()+experiment['Pageviews'].sum())"
   ]
  },
  {
   "cell_type": "markdown",
   "metadata": {},
   "source": [
    "Seems the control group size are larger than the experiment group size, we will figure out whether this difference within our expectations in future.  \n",
    "Now, we can make some visualizations to make a clear comparison between control and experiment groups."
   ]
  },
  {
   "cell_type": "code",
   "execution_count": 12,
   "metadata": {},
   "outputs": [
    {
     "data": {
      "text/plain": [
       "<matplotlib.legend.Legend at 0x2a5050d97f0>"
      ]
     },
     "execution_count": 12,
     "metadata": {},
     "output_type": "execute_result"
    },
    {
     "data": {
      "image/png": "[encoded data removed]",
      "text/plain": [
       "<Figure size 1200x600 with 1 Axes>"
      ]
     },
     "metadata": {},
     "output_type": "display_data"
    }
   ],
   "source": [
    "# invariant: Number of cookies\n",
    "plt.figure(figsize=(12,6))\n",
    "x = control['Date']\n",
    "line1 = plt.plot(x ,control['Pageviews'],label = 'control')\n",
    "line2 = plt.plot(x ,experiment['Pageviews'], label = 'experiment')\n",
    "plt.xticks(rotation = 90)\n",
    "plt.xlabel('Date')\n",
    "plt.ylabel('Number of Cookies')\n",
    "plt.title('Number of Cookies between Control and Experiment Groups')\n",
    "plt.legend()"
   ]
  },
  {
   "cell_type": "code",
   "execution_count": 13,
   "metadata": {},
   "outputs": [
    {
     "data": {
      "text/plain": [
       "<matplotlib.legend.Legend at 0x2a505268f50>"
      ]
     },
     "execution_count": 13,
     "metadata": {},
     "output_type": "execute_result"
    },
    {
     "data": {
      "image/png": "[encoded data removed]",
      "text/plain": [
       "<Figure size 1200x600 with 1 Axes>"
      ]
     },
     "metadata": {},
     "output_type": "display_data"
    }
   ],
   "source": [
    "# invariant: Number of clicks\n",
    "plt.figure(figsize=(12,6))\n",
    "x = control['Date']\n",
    "line1 = plt.plot(x ,control['Clicks'],label = 'control')\n",
    "line2 = plt.plot(x ,experiment['Clicks'], label = 'experiment')\n",
    "plt.xticks(rotation = 90)\n",
    "plt.xlabel('Date')\n",
    "plt.ylabel('Number of Clicks')\n",
    "plt.title('Number of Clicks between Control and Experiment Groups')\n",
    "plt.legend()"
   ]
  },
  {
   "cell_type": "code",
   "execution_count": 14,
   "metadata": {},
   "outputs": [
    {
     "data": {
      "text/plain": [
       "<matplotlib.legend.Legend at 0x2a5054ce350>"
      ]
     },
     "execution_count": 14,
     "metadata": {},
     "output_type": "execute_result"
    },
    {
     "data": {
      "image/png": "[encoded data removed]",
      "text/plain": [
       "<Figure size 1200x600 with 1 Axes>"
      ]
     },
     "metadata": {},
     "output_type": "display_data"
    }
   ],
   "source": [
    "# invariant: click through probability (Number of clicks / Number of cookies)\n",
    "plt.figure(figsize=(12,6))\n",
    "x = control['Date']\n",
    "line1 = plt.plot(x ,control['Clicks']/control['Pageviews'],label = 'control')\n",
    "line2 = plt.plot(x ,experiment['Clicks']/experiment['Pageviews'], label = 'experiment') \n",
    "plt.xticks(rotation = 90)\n",
    "plt.xlabel('Date')\n",
    "plt.ylabel('Click Through Probability')\n",
    "plt.title('Click Through Probability between Control and Experiment Groups')\n",
    "plt.legend()"
   ]
  },
  {
   "cell_type": "markdown",
   "metadata": {},
   "source": [
    "Here we also found there is a dramatically drop on click through rate on Oct. 24th. It's worthwhile to find the potential reason and effects."
   ]
  },
  {
   "cell_type": "markdown",
   "metadata": {},
   "source": [
    "## Sanity Checks"
   ]
  },
  {
   "cell_type": "markdown",
   "metadata": {},
   "source": [
    "### Cookies"
   ]
  },
  {
   "cell_type": "markdown",
   "metadata": {},
   "source": [
    "First, we've already calculated the size of control group and experiment group:   \n",
    "- control group size:  345543  \n",
    "- experiment size:  344660  \n",
    "- sample size:  690203    \n",
    "\n",
    "Is the difference between the size of control group and experiment group within our expectations?  \n",
    "\n",
    "Given each cookie is randomly assgined to the control or experiment group with probability 0.5. If we now regard being assigned to the control group as a success, we can use the binominal distribution to model the number of successes in the given whole sample (control+experiment) and perform a binomial test as sanity check.\n",
    "(We further assume the whole sample size are large enough to approach the normal distribution (Central Limit Theorem))."
   ]
  },
  {
   "cell_type": "code",
   "execution_count": 15,
   "metadata": {},
   "outputs": [
    {
     "data": {
      "application/vnd.microsoft.datawrangler.viewer.v0+json": {
       "columns": [
        {
         "name": "index",
         "rawType": "object",
         "type": "string"
        },
        {
         "name": "CI_lower",
         "rawType": "object",
         "type": "unknown"
        },
        {
         "name": "CI_upper",
         "rawType": "object",
         "type": "unknown"
        },
        {
         "name": "obs",
         "rawType": "float64",
         "type": "float"
        },
        {
         "name": "passes or not",
         "rawType": "object",
         "type": "unknown"
        }
       ],
       "conversionMethod": "pd.DataFrame",
       "ref": "d13d04d3-35a5-4aff-84b6-ff3383321c06",
       "rows": [
        [
         "Cookies",
         null,
         null,
         "0.5006396668806133",
         null
        ],
        [
         "Clicks",
         null,
         null,
         "0.5004673474066628",
         null
        ],
        [
         "CTP",
         null,
         null,
         null,
         null
        ]
       ],
       "shape": {
        "columns": 4,
        "rows": 3
       }
      },
      "text/html": [
       "<div>\n",
       "<style scoped>\n",
       "    .dataframe tbody tr th:only-of-type {\n",
       "        vertical-align: middle;\n",
       "    }\n",
       "\n",
       "    .dataframe tbody tr th {\n",
       "        vertical-align: top;\n",
       "    }\n",
       "\n",
       "    .dataframe thead th {\n",
       "        text-align: right;\n",
       "    }\n",
       "</style>\n",
       "<table border=\"1\" class=\"dataframe\">\n",
       "  <thead>\n",
       "    <tr style=\"text-align: right;\">\n",
       "      <th></th>\n",
       "      <th>CI_lower</th>\n",
       "      <th>CI_upper</th>\n",
       "      <th>obs</th>\n",
       "      <th>passes or not</th>\n",
       "    </tr>\n",
       "  </thead>\n",
       "  <tbody>\n",
       "    <tr>\n",
       "      <th>Cookies</th>\n",
       "      <td>NaN</td>\n",
       "      <td>NaN</td>\n",
       "      <td>0.500640</td>\n",
       "      <td>NaN</td>\n",
       "    </tr>\n",
       "    <tr>\n",
       "      <th>Clicks</th>\n",
       "      <td>NaN</td>\n",
       "      <td>NaN</td>\n",
       "      <td>0.500467</td>\n",
       "      <td>NaN</td>\n",
       "    </tr>\n",
       "    <tr>\n",
       "      <th>CTP</th>\n",
       "      <td>NaN</td>\n",
       "      <td>NaN</td>\n",
       "      <td>NaN</td>\n",
       "      <td>NaN</td>\n",
       "    </tr>\n",
       "  </tbody>\n",
       "</table>\n",
       "</div>"
      ],
      "text/plain": [
       "        CI_lower CI_upper       obs passes or not\n",
       "Cookies      NaN      NaN  0.500640           NaN\n",
       "Clicks       NaN      NaN  0.500467           NaN\n",
       "CTP          NaN      NaN       NaN           NaN"
      ]
     },
     "execution_count": 15,
     "metadata": {},
     "output_type": "execute_result"
    }
   ],
   "source": [
    "# create a new dataframe\n",
    "Sanity_Check = pd.DataFrame(index = ['Cookies','Clicks','CTP'], \n",
    "                            columns=['CI_lower','CI_upper','obs','passes or not',])\n",
    "Sanity_Check.obs = [control['Pageviews'].sum()/(control['Pageviews'].sum()+experiment['Pageviews'].sum()),\n",
    "      control['Clicks'].sum()/(control['Clicks'].sum()+experiment['Clicks'].sum()),np.nan]\n",
    "Sanity_Check"
   ]
  },
  {
   "cell_type": "code",
   "execution_count": 16,
   "metadata": {},
   "outputs": [
    {
     "data": {
      "application/vnd.microsoft.datawrangler.viewer.v0+json": {
       "columns": [
        {
         "name": "index",
         "rawType": "object",
         "type": "string"
        },
        {
         "name": "CI_lower",
         "rawType": "object",
         "type": "unknown"
        },
        {
         "name": "CI_upper",
         "rawType": "object",
         "type": "unknown"
        },
        {
         "name": "obs",
         "rawType": "float64",
         "type": "float"
        },
        {
         "name": "passes or not",
         "rawType": "object",
         "type": "unknown"
        }
       ],
       "conversionMethod": "pd.DataFrame",
       "ref": "05552d16-b119-4143-b8f7-ed661f3b7e4c",
       "rows": [
        [
         "Cookies",
         "0.49882039214902313",
         "0.5011796078509769",
         "0.5006396668806133",
         "1"
        ],
        [
         "Clicks",
         null,
         null,
         "0.5004673474066628",
         null
        ],
        [
         "CTP",
         null,
         null,
         null,
         null
        ]
       ],
       "shape": {
        "columns": 4,
        "rows": 3
       }
      },
      "text/html": [
       "<div>\n",
       "<style scoped>\n",
       "    .dataframe tbody tr th:only-of-type {\n",
       "        vertical-align: middle;\n",
       "    }\n",
       "\n",
       "    .dataframe tbody tr th {\n",
       "        vertical-align: top;\n",
       "    }\n",
       "\n",
       "    .dataframe thead th {\n",
       "        text-align: right;\n",
       "    }\n",
       "</style>\n",
       "<table border=\"1\" class=\"dataframe\">\n",
       "  <thead>\n",
       "    <tr style=\"text-align: right;\">\n",
       "      <th></th>\n",
       "      <th>CI_lower</th>\n",
       "      <th>CI_upper</th>\n",
       "      <th>obs</th>\n",
       "      <th>passes or not</th>\n",
       "    </tr>\n",
       "  </thead>\n",
       "  <tbody>\n",
       "    <tr>\n",
       "      <th>Cookies</th>\n",
       "      <td>0.49882</td>\n",
       "      <td>0.50118</td>\n",
       "      <td>0.500640</td>\n",
       "      <td>1</td>\n",
       "    </tr>\n",
       "    <tr>\n",
       "      <th>Clicks</th>\n",
       "      <td>NaN</td>\n",
       "      <td>NaN</td>\n",
       "      <td>0.500467</td>\n",
       "      <td>NaN</td>\n",
       "    </tr>\n",
       "    <tr>\n",
       "      <th>CTP</th>\n",
       "      <td>NaN</td>\n",
       "      <td>NaN</td>\n",
       "      <td>NaN</td>\n",
       "      <td>NaN</td>\n",
       "    </tr>\n",
       "  </tbody>\n",
       "</table>\n",
       "</div>"
      ],
      "text/plain": [
       "        CI_lower CI_upper       obs passes or not\n",
       "Cookies  0.49882  0.50118  0.500640             1\n",
       "Clicks       NaN      NaN  0.500467           NaN\n",
       "CTP          NaN      NaN       NaN           NaN"
      ]
     },
     "execution_count": 16,
     "metadata": {},
     "output_type": "execute_result"
    }
   ],
   "source": [
    "# binomial test function\n",
    "prob = 0.5\n",
    "alpha = 0.05\n",
    "\n",
    "def binomial_test(A,B):\n",
    "    std = math.sqrt(0.5*0.5/(control[A].sum()+experiment[A].sum()))\n",
    "    ME = std*1.96\n",
    "    Sanity_Check.loc[B,'CI_lower'], Sanity_Check.loc[B,'CI_upper'] = 0.5-ME, 0.5+ME\n",
    "    if Sanity_Check.loc[B,'CI_lower'] <= Sanity_Check.loc[B,'obs'] <= Sanity_Check.loc[B,'CI_upper']:\n",
    "        Sanity_Check.loc[B,'passes or not'] = 1\n",
    "    else:\n",
    "        Sanity_Check.loc[B,'passes or not'] = 0 \n",
    "\n",
    "binomial_test('Pageviews','Cookies')    \n",
    "    \n",
    "Sanity_Check"
   ]
  },
  {
   "cell_type": "markdown",
   "metadata": {},
   "source": [
    "### Clicks"
   ]
  },
  {
   "cell_type": "code",
   "execution_count": 17,
   "metadata": {},
   "outputs": [
    {
     "data": {
      "application/vnd.microsoft.datawrangler.viewer.v0+json": {
       "columns": [
        {
         "name": "index",
         "rawType": "object",
         "type": "string"
        },
        {
         "name": "CI_lower",
         "rawType": "object",
         "type": "unknown"
        },
        {
         "name": "CI_upper",
         "rawType": "object",
         "type": "unknown"
        },
        {
         "name": "obs",
         "rawType": "float64",
         "type": "float"
        },
        {
         "name": "passes or not",
         "rawType": "object",
         "type": "unknown"
        }
       ],
       "conversionMethod": "pd.DataFrame",
       "ref": "b317f2f2-ead6-4b7a-b035-7c04bcdf5332",
       "rows": [
        [
         "Cookies",
         "0.49882039214902313",
         "0.5011796078509769",
         "0.5006396668806133",
         "1"
        ],
        [
         "Clicks",
         "0.49588449572378945",
         "0.5041155042762105",
         "0.5004673474066628",
         "1"
        ],
        [
         "CTP",
         null,
         null,
         null,
         null
        ]
       ],
       "shape": {
        "columns": 4,
        "rows": 3
       }
      },
      "text/html": [
       "<div>\n",
       "<style scoped>\n",
       "    .dataframe tbody tr th:only-of-type {\n",
       "        vertical-align: middle;\n",
       "    }\n",
       "\n",
       "    .dataframe tbody tr th {\n",
       "        vertical-align: top;\n",
       "    }\n",
       "\n",
       "    .dataframe thead th {\n",
       "        text-align: right;\n",
       "    }\n",
       "</style>\n",
       "<table border=\"1\" class=\"dataframe\">\n",
       "  <thead>\n",
       "    <tr style=\"text-align: right;\">\n",
       "      <th></th>\n",
       "      <th>CI_lower</th>\n",
       "      <th>CI_upper</th>\n",
       "      <th>obs</th>\n",
       "      <th>passes or not</th>\n",
       "    </tr>\n",
       "  </thead>\n",
       "  <tbody>\n",
       "    <tr>\n",
       "      <th>Cookies</th>\n",
       "      <td>0.49882</td>\n",
       "      <td>0.50118</td>\n",
       "      <td>0.500640</td>\n",
       "      <td>1</td>\n",
       "    </tr>\n",
       "    <tr>\n",
       "      <th>Clicks</th>\n",
       "      <td>0.495884</td>\n",
       "      <td>0.504116</td>\n",
       "      <td>0.500467</td>\n",
       "      <td>1</td>\n",
       "    </tr>\n",
       "    <tr>\n",
       "      <th>CTP</th>\n",
       "      <td>NaN</td>\n",
       "      <td>NaN</td>\n",
       "      <td>NaN</td>\n",
       "      <td>NaN</td>\n",
       "    </tr>\n",
       "  </tbody>\n",
       "</table>\n",
       "</div>"
      ],
      "text/plain": [
       "         CI_lower  CI_upper       obs passes or not\n",
       "Cookies   0.49882   0.50118  0.500640             1\n",
       "Clicks   0.495884  0.504116  0.500467             1\n",
       "CTP           NaN       NaN       NaN           NaN"
      ]
     },
     "execution_count": 17,
     "metadata": {},
     "output_type": "execute_result"
    }
   ],
   "source": [
    "# For the Clicks metric, we can also use the binomial test.\n",
    "\n",
    "binomial_test('Clicks','Clicks')    \n",
    "    \n",
    "Sanity_Check"
   ]
  },
  {
   "cell_type": "markdown",
   "metadata": {},
   "source": [
    "If you want to save time, an exact binomial test is highly recommended"
   ]
  },
  {
   "cell_type": "markdown",
   "metadata": {},
   "source": [
    "### Click Through Probability"
   ]
  },
  {
   "cell_type": "markdown",
   "metadata": {},
   "source": [
    "For the click through probability, we've already assumed the sample performs the normal distribution. Therefore, we can further assume that the click through probability in both control and experiment groups perform the binomial distribution. So we can lauch a Z-test to check the click through probability. (pooled p)"
   ]
  },
  {
   "cell_type": "code",
   "execution_count": 18,
   "metadata": {},
   "outputs": [
    {
     "data": {
      "application/vnd.microsoft.datawrangler.viewer.v0+json": {
       "columns": [
        {
         "name": "index",
         "rawType": "object",
         "type": "string"
        },
        {
         "name": "CI_lower",
         "rawType": "object",
         "type": "unknown"
        },
        {
         "name": "CI_upper",
         "rawType": "object",
         "type": "unknown"
        },
        {
         "name": "obs",
         "rawType": "float64",
         "type": "float"
        },
        {
         "name": "passes or not",
         "rawType": "object",
         "type": "unknown"
        }
       ],
       "conversionMethod": "pd.DataFrame",
       "ref": "43cd0383-8d21-49cb-96ca-376ea6d28944",
       "rows": [
        [
         "Cookies",
         "0.49882039214902313",
         "0.5011796078509769",
         "0.5006396668806133",
         "1"
        ],
        [
         "Clicks",
         "0.49588449572378945",
         "0.5041155042762105",
         "0.5004673474066628",
         "1"
        ],
        [
         "CTP",
         "-0.0012956797119073678",
         "0.0012956797119073678",
         "-5.662709158693602e-05",
         "1"
        ]
       ],
       "shape": {
        "columns": 4,
        "rows": 3
       }
      },
      "text/html": [
       "<div>\n",
       "<style scoped>\n",
       "    .dataframe tbody tr th:only-of-type {\n",
       "        vertical-align: middle;\n",
       "    }\n",
       "\n",
       "    .dataframe tbody tr th {\n",
       "        vertical-align: top;\n",
       "    }\n",
       "\n",
       "    .dataframe thead th {\n",
       "        text-align: right;\n",
       "    }\n",
       "</style>\n",
       "<table border=\"1\" class=\"dataframe\">\n",
       "  <thead>\n",
       "    <tr style=\"text-align: right;\">\n",
       "      <th></th>\n",
       "      <th>CI_lower</th>\n",
       "      <th>CI_upper</th>\n",
       "      <th>obs</th>\n",
       "      <th>passes or not</th>\n",
       "    </tr>\n",
       "  </thead>\n",
       "  <tbody>\n",
       "    <tr>\n",
       "      <th>Cookies</th>\n",
       "      <td>0.49882</td>\n",
       "      <td>0.50118</td>\n",
       "      <td>0.500640</td>\n",
       "      <td>1</td>\n",
       "    </tr>\n",
       "    <tr>\n",
       "      <th>Clicks</th>\n",
       "      <td>0.495884</td>\n",
       "      <td>0.504116</td>\n",
       "      <td>0.500467</td>\n",
       "      <td>1</td>\n",
       "    </tr>\n",
       "    <tr>\n",
       "      <th>CTP</th>\n",
       "      <td>-0.001296</td>\n",
       "      <td>0.001296</td>\n",
       "      <td>-0.000057</td>\n",
       "      <td>1</td>\n",
       "    </tr>\n",
       "  </tbody>\n",
       "</table>\n",
       "</div>"
      ],
      "text/plain": [
       "         CI_lower  CI_upper       obs passes or not\n",
       "Cookies   0.49882   0.50118  0.500640             1\n",
       "Clicks   0.495884  0.504116  0.500467             1\n",
       "CTP     -0.001296  0.001296 -0.000057             1"
      ]
     },
     "execution_count": 18,
     "metadata": {},
     "output_type": "execute_result"
    }
   ],
   "source": [
    "# CTP for both groups\n",
    "CTP_control = control['Clicks'].sum() / control['Pageviews'].sum()\n",
    "CTP_experiment = experiment['Clicks'].sum() / experiment['Pageviews'].sum()\n",
    "\n",
    "# sample standard deviations for both groups (distribution)\n",
    "std_control = math.sqrt(CTP_control*(1-CTP_control))\n",
    "std_experiment = math.sqrt(CTP_experiment*(1-CTP_experiment))\n",
    "\n",
    "# SE pooled\n",
    "SE_pooled = math.sqrt(std_control**2/control[\"Pageviews\"].sum()+std_experiment**2/experiment[\"Pageviews\"].sum())\n",
    "\n",
    "# ME\n",
    "ME_pooled = SE_pooled*1.96\n",
    "\n",
    "# CI_lower, CI_upper\n",
    "Sanity_Check.loc['CTP','CI_lower'],Sanity_Check.loc['CTP','CI_upper'] = 0-ME_pooled,0+ME_pooled\n",
    "\n",
    "# obs\n",
    "obs = CTP_control - CTP_experiment \n",
    "Sanity_Check.loc['CTP','obs'] = obs\n",
    "\n",
    "# conclusion\n",
    "if Sanity_Check.loc['CTP','CI_lower'] <= obs <= Sanity_Check.loc['CTP','CI_upper']:\n",
    "    Sanity_Check.loc['CTP','passes or not'] = 1 \n",
    "else:\n",
    "    Sanity_Check.loc['CTP','passes or not'] = 0\n",
    "    \n",
    "Sanity_Check"
   ]
  },
  {
   "cell_type": "markdown",
   "metadata": {},
   "source": [
    "Based on the Sanity_Check chart, we can conclude that all invariant metrics have stood the test successfully."
   ]
  },
  {
   "cell_type": "markdown",
   "metadata": {},
   "source": [
    "## Result Analysis"
   ]
  },
  {
   "cell_type": "markdown",
   "metadata": {},
   "source": [
    "First, we can also visulize the evaluation metrics."
   ]
  },
  {
   "cell_type": "code",
   "execution_count": 19,
   "metadata": {},
   "outputs": [
    {
     "data": {
      "application/vnd.microsoft.datawrangler.viewer.v0+json": {
       "columns": [
        {
         "name": "index",
         "rawType": "int64",
         "type": "integer"
        },
        {
         "name": "Date",
         "rawType": "object",
         "type": "string"
        },
        {
         "name": "Pageviews",
         "rawType": "int64",
         "type": "integer"
        },
        {
         "name": "Clicks",
         "rawType": "int64",
         "type": "integer"
        },
        {
         "name": "Enrollments",
         "rawType": "float64",
         "type": "float"
        },
        {
         "name": "Payments",
         "rawType": "float64",
         "type": "float"
        }
       ],
       "conversionMethod": "pd.DataFrame",
       "ref": "2205a489-48db-4884-89e2-3084aa53eded",
       "rows": [
        [
         "18",
         "Wed, Oct 29",
         "9262",
         "727",
         "201.0",
         "96.0"
        ],
        [
         "19",
         "Thu, Oct 30",
         "9308",
         "728",
         "207.0",
         "67.0"
        ],
        [
         "20",
         "Fri, Oct 31",
         "8715",
         "722",
         "182.0",
         "123.0"
        ],
        [
         "21",
         "Sat, Nov 1",
         "8448",
         "695",
         "142.0",
         "100.0"
        ],
        [
         "22",
         "Sun, Nov 2",
         "8836",
         "724",
         "182.0",
         "103.0"
        ]
       ],
       "shape": {
        "columns": 5,
        "rows": 5
       }
      },
      "text/html": [
       "<div>\n",
       "<style scoped>\n",
       "    .dataframe tbody tr th:only-of-type {\n",
       "        vertical-align: middle;\n",
       "    }\n",
       "\n",
       "    .dataframe tbody tr th {\n",
       "        vertical-align: top;\n",
       "    }\n",
       "\n",
       "    .dataframe thead th {\n",
       "        text-align: right;\n",
       "    }\n",
       "</style>\n",
       "<table border=\"1\" class=\"dataframe\">\n",
       "  <thead>\n",
       "    <tr style=\"text-align: right;\">\n",
       "      <th></th>\n",
       "      <th>Date</th>\n",
       "      <th>Pageviews</th>\n",
       "      <th>Clicks</th>\n",
       "      <th>Enrollments</th>\n",
       "      <th>Payments</th>\n",
       "    </tr>\n",
       "  </thead>\n",
       "  <tbody>\n",
       "    <tr>\n",
       "      <th>18</th>\n",
       "      <td>Wed, Oct 29</td>\n",
       "      <td>9262</td>\n",
       "      <td>727</td>\n",
       "      <td>201.0</td>\n",
       "      <td>96.0</td>\n",
       "    </tr>\n",
       "    <tr>\n",
       "      <th>19</th>\n",
       "      <td>Thu, Oct 30</td>\n",
       "      <td>9308</td>\n",
       "      <td>728</td>\n",
       "      <td>207.0</td>\n",
       "      <td>67.0</td>\n",
       "    </tr>\n",
       "    <tr>\n",
       "      <th>20</th>\n",
       "      <td>Fri, Oct 31</td>\n",
       "      <td>8715</td>\n",
       "      <td>722</td>\n",
       "      <td>182.0</td>\n",
       "      <td>123.0</td>\n",
       "    </tr>\n",
       "    <tr>\n",
       "      <th>21</th>\n",
       "      <td>Sat, Nov 1</td>\n",
       "      <td>8448</td>\n",
       "      <td>695</td>\n",
       "      <td>142.0</td>\n",
       "      <td>100.0</td>\n",
       "    </tr>\n",
       "    <tr>\n",
       "      <th>22</th>\n",
       "      <td>Sun, Nov 2</td>\n",
       "      <td>8836</td>\n",
       "      <td>724</td>\n",
       "      <td>182.0</td>\n",
       "      <td>103.0</td>\n",
       "    </tr>\n",
       "  </tbody>\n",
       "</table>\n",
       "</div>"
      ],
      "text/plain": [
       "           Date  Pageviews  Clicks  Enrollments  Payments\n",
       "18  Wed, Oct 29       9262     727        201.0      96.0\n",
       "19  Thu, Oct 30       9308     728        207.0      67.0\n",
       "20  Fri, Oct 31       8715     722        182.0     123.0\n",
       "21   Sat, Nov 1       8448     695        142.0     100.0\n",
       "22   Sun, Nov 2       8836     724        182.0     103.0"
      ]
     },
     "execution_count": 19,
     "metadata": {},
     "output_type": "execute_result"
    }
   ],
   "source": [
    "# slice the control dataset\n",
    "control_sliced = control[:23]\n",
    "control_sliced.tail()\n",
    "\n",
    "# slice the experiment dataset\n",
    "experiment_sliced = experiment[:23]\n",
    "experiment_sliced.tail()"
   ]
  },
  {
   "cell_type": "code",
   "execution_count": 20,
   "metadata": {},
   "outputs": [
    {
     "data": {
      "text/plain": [
       "<matplotlib.legend.Legend at 0x2a507f42e90>"
      ]
     },
     "execution_count": 20,
     "metadata": {},
     "output_type": "execute_result"
    },
    {
     "data": {
      "image/png": "[encoded data removed]",
      "text/plain": [
       "<Figure size 1200x600 with 1 Axes>"
      ]
     },
     "metadata": {},
     "output_type": "display_data"
    }
   ],
   "source": [
    "# evaluation metric: Gross Conversion\n",
    "plt.figure(figsize=(12,6))\n",
    "x = control_sliced['Date']\n",
    "line1 = plt.plot(x ,control_sliced['Enrollments']/control_sliced['Clicks'],label = 'control')\n",
    "line2 = plt.plot(x ,experiment_sliced['Enrollments']/experiment_sliced['Clicks'], label = 'experiment')\n",
    "plt.xticks(rotation = 90)\n",
    "plt.xlabel('Date')\n",
    "plt.ylabel('Number of Cookies')\n",
    "plt.title('Gross Conversion between Control and Experiment Groups')\n",
    "plt.legend()"
   ]
  },
  {
   "cell_type": "code",
   "execution_count": 21,
   "metadata": {},
   "outputs": [
    {
     "data": {
      "text/plain": [
       "<matplotlib.legend.Legend at 0x2a507d96350>"
      ]
     },
     "execution_count": 21,
     "metadata": {},
     "output_type": "execute_result"
    },
    {
     "data": {
      "image/png": "[encoded data removed]",
      "text/plain": [
       "<Figure size 1200x600 with 1 Axes>"
      ]
     },
     "metadata": {},
     "output_type": "display_data"
    }
   ],
   "source": [
    "# evaluation metric: Net Conversion\n",
    "plt.figure(figsize=(12,6))\n",
    "x = control_sliced['Date']\n",
    "line1 = plt.plot(x ,control_sliced['Payments']/control_sliced['Clicks'],label = 'control')\n",
    "line2 = plt.plot(x ,experiment_sliced['Payments']/experiment_sliced['Clicks'], label = 'experiment')\n",
    "plt.xticks(rotation = 90)\n",
    "plt.xlabel('Date')\n",
    "plt.ylabel('Number of Cookies')\n",
    "plt.title('Net Conversion between Control and Experiment Groups')\n",
    "plt.legend()"
   ]
  },
  {
   "cell_type": "markdown",
   "metadata": {},
   "source": [
    "We can also see there is a huge peak on Oct.24th. According to we've mentioned a drop of click through probability on Oct.24th, we can infer that there is a larger number of pageviews. We recommend Udacity teams to do some further analysis on the whole traffic instead of this sample size."
   ]
  },
  {
   "cell_type": "markdown",
   "metadata": {},
   "source": [
    "### Check for Practical and Statistical Significance  \n",
    "Now, both gross conversion and net conversion are probabilities, similar to click-through probability. Therefore, we can check them as we checked the click-through rate above. However, this time we will check for both practical(dmin) and statistical significance. "
   ]
  },
  {
   "cell_type": "code",
   "execution_count": 22,
   "metadata": {},
   "outputs": [
    {
     "data": {
      "application/vnd.microsoft.datawrangler.viewer.v0+json": {
       "columns": [
        {
         "name": "index",
         "rawType": "object",
         "type": "string"
        },
        {
         "name": "CI_lower",
         "rawType": "object",
         "type": "unknown"
        },
        {
         "name": "CI_upper",
         "rawType": "object",
         "type": "unknown"
        },
        {
         "name": "obs",
         "rawType": "object",
         "type": "unknown"
        },
        {
         "name": "stats_sig?",
         "rawType": "object",
         "type": "unknown"
        },
        {
         "name": "dmin",
         "rawType": "float64",
         "type": "float"
        },
        {
         "name": "prac_sig?",
         "rawType": "object",
         "type": "unknown"
        }
       ],
       "conversionMethod": "pd.DataFrame",
       "ref": "b322ea1a-fd3d-45cf-aa4e-c04a3b25c980",
       "rows": [
        [
         "Gross_Conversion",
         null,
         null,
         null,
         null,
         "-0.01",
         null
        ],
        [
         "Net_Conversion",
         null,
         null,
         null,
         null,
         "0.0075",
         null
        ]
       ],
       "shape": {
        "columns": 6,
        "rows": 2
       }
      },
      "text/html": [
       "<div>\n",
       "<style scoped>\n",
       "    .dataframe tbody tr th:only-of-type {\n",
       "        vertical-align: middle;\n",
       "    }\n",
       "\n",
       "    .dataframe tbody tr th {\n",
       "        vertical-align: top;\n",
       "    }\n",
       "\n",
       "    .dataframe thead th {\n",
       "        text-align: right;\n",
       "    }\n",
       "</style>\n",
       "<table border=\"1\" class=\"dataframe\">\n",
       "  <thead>\n",
       "    <tr style=\"text-align: right;\">\n",
       "      <th></th>\n",
       "      <th>CI_lower</th>\n",
       "      <th>CI_upper</th>\n",
       "      <th>obs</th>\n",
       "      <th>stats_sig?</th>\n",
       "      <th>dmin</th>\n",
       "      <th>prac_sig?</th>\n",
       "    </tr>\n",
       "  </thead>\n",
       "  <tbody>\n",
       "    <tr>\n",
       "      <th>Gross_Conversion</th>\n",
       "      <td>NaN</td>\n",
       "      <td>NaN</td>\n",
       "      <td>NaN</td>\n",
       "      <td>NaN</td>\n",
       "      <td>-0.0100</td>\n",
       "      <td>NaN</td>\n",
       "    </tr>\n",
       "    <tr>\n",
       "      <th>Net_Conversion</th>\n",
       "      <td>NaN</td>\n",
       "      <td>NaN</td>\n",
       "      <td>NaN</td>\n",
       "      <td>NaN</td>\n",
       "      <td>0.0075</td>\n",
       "      <td>NaN</td>\n",
       "    </tr>\n",
       "  </tbody>\n",
       "</table>\n",
       "</div>"
      ],
      "text/plain": [
       "                 CI_lower CI_upper  obs stats_sig?    dmin prac_sig?\n",
       "Gross_Conversion      NaN      NaN  NaN        NaN -0.0100       NaN\n",
       "Net_Conversion        NaN      NaN  NaN        NaN  0.0075       NaN"
      ]
     },
     "execution_count": 22,
     "metadata": {},
     "output_type": "execute_result"
    }
   ],
   "source": [
    "# create a new dataframe\n",
    "results = pd.DataFrame(index = ['Gross_Conversion','Net_Conversion'], \n",
    "                            columns=['CI_lower','CI_upper','obs','stats_sig?','dmin','prac_sig?'])\n",
    "\n",
    "# dmin\n",
    "results.dmin = [baseline.loc[4,'dmin'],baseline.loc[6,'dmin']]\n",
    "\n",
    "results"
   ]
  },
  {
   "cell_type": "markdown",
   "metadata": {},
   "source": [
    "**Notice:** Because the payments and enrollments are None in the last 14 days, we should recalculate the real sample size for checking the evaluation metrics."
   ]
  },
  {
   "cell_type": "code",
   "execution_count": 23,
   "metadata": {},
   "outputs": [
    {
     "data": {
      "text/plain": [
       "np.int64(423525)"
      ]
     },
     "execution_count": 23,
     "metadata": {},
     "output_type": "execute_result"
    }
   ],
   "source": [
    "# recalculate the sample size\n",
    "real_size = control_sliced['Pageviews'].sum() + experiment_sliced['Pageviews'].sum()\n",
    "real_size"
   ]
  },
  {
   "cell_type": "code",
   "execution_count": 24,
   "metadata": {},
   "outputs": [
    {
     "data": {
      "application/vnd.microsoft.datawrangler.viewer.v0+json": {
       "columns": [
        {
         "name": "index",
         "rawType": "object",
         "type": "string"
        },
        {
         "name": "CI_lower",
         "rawType": "object",
         "type": "unknown"
        },
        {
         "name": "CI_upper",
         "rawType": "object",
         "type": "unknown"
        },
        {
         "name": "obs",
         "rawType": "float64",
         "type": "float"
        },
        {
         "name": "stats_sig?",
         "rawType": "object",
         "type": "unknown"
        },
        {
         "name": "dmin",
         "rawType": "float64",
         "type": "float"
        },
        {
         "name": "prac_sig?",
         "rawType": "object",
         "type": "unknown"
        }
       ],
       "conversionMethod": "pd.DataFrame",
       "ref": "5554c7fb-ecdc-4cc1-bbaf-51c364d5bd06",
       "rows": [
        [
         "Gross_Conversion",
         "-0.029120319808048547",
         "-0.011989429352674583",
         "-0.020554874580361565",
         "1",
         "-0.01",
         "1"
        ],
        [
         "Net_Conversion",
         "-0.01160430981238708",
         "0.0018568644632987446",
         "-0.0048737226745441675",
         "0",
         "0.0075",
         "0"
        ]
       ],
       "shape": {
        "columns": 6,
        "rows": 2
       }
      },
      "text/html": [
       "<div>\n",
       "<style scoped>\n",
       "    .dataframe tbody tr th:only-of-type {\n",
       "        vertical-align: middle;\n",
       "    }\n",
       "\n",
       "    .dataframe tbody tr th {\n",
       "        vertical-align: top;\n",
       "    }\n",
       "\n",
       "    .dataframe thead th {\n",
       "        text-align: right;\n",
       "    }\n",
       "</style>\n",
       "<table border=\"1\" class=\"dataframe\">\n",
       "  <thead>\n",
       "    <tr style=\"text-align: right;\">\n",
       "      <th></th>\n",
       "      <th>CI_lower</th>\n",
       "      <th>CI_upper</th>\n",
       "      <th>obs</th>\n",
       "      <th>stats_sig?</th>\n",
       "      <th>dmin</th>\n",
       "      <th>prac_sig?</th>\n",
       "    </tr>\n",
       "  </thead>\n",
       "  <tbody>\n",
       "    <tr>\n",
       "      <th>Gross_Conversion</th>\n",
       "      <td>-0.02912</td>\n",
       "      <td>-0.011989</td>\n",
       "      <td>-0.020555</td>\n",
       "      <td>1</td>\n",
       "      <td>-0.0100</td>\n",
       "      <td>1</td>\n",
       "    </tr>\n",
       "    <tr>\n",
       "      <th>Net_Conversion</th>\n",
       "      <td>-0.011604</td>\n",
       "      <td>0.001857</td>\n",
       "      <td>-0.004874</td>\n",
       "      <td>0</td>\n",
       "      <td>0.0075</td>\n",
       "      <td>0</td>\n",
       "    </tr>\n",
       "  </tbody>\n",
       "</table>\n",
       "</div>"
      ],
      "text/plain": [
       "                  CI_lower  CI_upper       obs stats_sig?    dmin prac_sig?\n",
       "Gross_Conversion  -0.02912 -0.011989 -0.020555          1 -0.0100         1\n",
       "Net_Conversion   -0.011604  0.001857 -0.004874          0  0.0075         0"
      ]
     },
     "execution_count": 24,
     "metadata": {},
     "output_type": "execute_result"
    }
   ],
   "source": [
    "# Gross Conversion\n",
    "control_GC = control_sliced['Enrollments'].sum()/control_sliced['Clicks'].sum()\n",
    "experiment_GC = experiment_sliced['Enrollments'].sum()/experiment_sliced['Clicks'].sum()\n",
    "# Net Conversion\n",
    "control_NC = control_sliced['Payments'].sum()/control_sliced['Clicks'].sum()\n",
    "experiment_NC = experiment_sliced['Payments'].sum()/experiment_sliced['Clicks'].sum()\n",
    "                                                     \n",
    "# obs\n",
    "results.obs = [experiment_GC - control_GC, experiment_NC - control_NC]\n",
    "\n",
    "# alpha = 0.05\n",
    "\n",
    "# std\n",
    "    #GC\n",
    "std_control_GC = math.sqrt(control_GC*(1-control_GC))\n",
    "std_experiment_GC = math.sqrt(experiment_GC*(1-experiment_GC)) \n",
    "pooled_GC = math.sqrt(std_control_GC**2/control_sliced['Clicks'].sum() + \n",
    "                   std_experiment_GC**2 /experiment_sliced['Clicks'].sum())\n",
    "    #NC\n",
    "std_control_NC = math.sqrt(control_NC*(1-control_NC))\n",
    "std_experiment_NC = math.sqrt(experiment_NC*(1-experiment_NC)) \n",
    "pooled_NC = math.sqrt(std_control_NC**2/control_sliced['Clicks'].sum() +\n",
    "                   std_experiment_NC**2 /experiment_sliced['Clicks'].sum())\n",
    "    \n",
    "# CI\n",
    "results.loc['Gross_Conversion','CI_lower'], results.loc['Gross_Conversion','CI_upper'] = results.loc['Gross_Conversion','obs']-pooled_GC*1.96, results.loc['Gross_Conversion','obs']+pooled_GC*1.96\n",
    "results.loc['Net_Conversion','CI_lower'], results.loc['Net_Conversion','CI_upper'] = results.loc['Net_Conversion','obs']-pooled_NC*1.96, results.loc['Net_Conversion','obs']+pooled_NC*1.96 \n",
    "\n",
    "# stats check\n",
    "if results.loc['Gross_Conversion','CI_lower'] <= 0 <= results.loc['Gross_Conversion','CI_upper']:\n",
    "    results.loc['Gross_Conversion','stats_sig?'] = 0\n",
    "else: \n",
    "    results.loc['Gross_Conversion','stats_sig?'] = 1\n",
    "    \n",
    "if results.loc['Net_Conversion','CI_lower'] <= 0 <= results.loc['Net_Conversion','CI_upper']:\n",
    "    results.loc['Net_Conversion','stats_sig?'] = 0\n",
    "else: \n",
    "    results.loc['Net_Conversion','stats_sig?'] = 1\n",
    "\n",
    "# practical check\n",
    "if results.loc['Gross_Conversion','dmin'] < 0:\n",
    "    if results.loc['Gross_Conversion','obs'] <= results.loc['Gross_Conversion','dmin']:\n",
    "        results.loc['Gross_Conversion','prac_sig?'] = 1 \n",
    "    else: \n",
    "        results.loc['Gross_Conversion','prac_sig?'] = 0\n",
    "\n",
    "if results.loc['Gross_Conversion','dmin'] > 0:\n",
    "    if results.loc['Gross_Conversion','obs'] >= results.loc['Gross_Conversion','dmin']:\n",
    "        results.loc['Gross_Conversion','prac_sig?'] = 1 \n",
    "    else: \n",
    "        results.loc['Gross_Conversion','prac_sig?'] = 0\n",
    "    \n",
    "    \n",
    "if results.loc['Net_Conversion','dmin'] < 0:\n",
    "    if results.loc['Net_Conversion','obs'] <= results.loc['Net_Conversion','dmin']:\n",
    "        results.loc['Net_Conversion','prac_sig?'] = 1 \n",
    "    else: \n",
    "        results.loc['Net_Conversion','prac_sig?'] = 0\n",
    "\n",
    "if results.loc['Net_Conversion','dmin'] > 0:\n",
    "    if results.loc['Net_Conversion','obs'] >= results.loc['Net_Conversion','dmin']:\n",
    "        results.loc['Net_Conversion','prac_sig?'] = 1 \n",
    "    else: \n",
    "        results.loc['Net_Conversion','prac_sig?'] = 0   \n",
    "    \n",
    "    \n",
    "results"
   ]
  },
  {
   "cell_type": "markdown",
   "metadata": {},
   "source": [
    "Now we can see the gross conversion decreased 2% in this A/B test, which was statiscally and practically significant while the net conversion was not."
   ]
  },
  {
   "cell_type": "markdown",
   "metadata": {},
   "source": [
    "### Week Analysis"
   ]
  },
  {
   "cell_type": "markdown",
   "metadata": {},
   "source": [
    "At last, we were asked to finish the sign test for this A/B test. However, the prior assumption for sigh test that the two dependent samples should be paired or matched viloates our A/B test assumption. So we will forgo this additional test, instead, we can make an analysis about the seasonality.\n"
   ]
  },
  {
   "cell_type": "code",
   "execution_count": 25,
   "metadata": {},
   "outputs": [
    {
     "data": {
      "application/vnd.microsoft.datawrangler.viewer.v0+json": {
       "columns": [
        {
         "name": "index",
         "rawType": "int64",
         "type": "integer"
        },
        {
         "name": "Clicks_x",
         "rawType": "int64",
         "type": "integer"
        },
        {
         "name": "Enrollments_x",
         "rawType": "float64",
         "type": "float"
        },
        {
         "name": "Payments_x",
         "rawType": "float64",
         "type": "float"
        },
        {
         "name": "Clicks_y",
         "rawType": "int64",
         "type": "integer"
        },
        {
         "name": "Enrollments_y",
         "rawType": "float64",
         "type": "float"
        },
        {
         "name": "Payments_y",
         "rawType": "float64",
         "type": "float"
        },
        {
         "name": "Day",
         "rawType": "object",
         "type": "string"
        }
       ],
       "conversionMethod": "pd.DataFrame",
       "ref": "1f0a75e7-a59b-47a3-b344-74102204c53d",
       "rows": [
        [
         "0",
         "687",
         "134.0",
         "70.0",
         "686",
         "105.0",
         "34.0",
         "Sat"
        ],
        [
         "1",
         "779",
         "147.0",
         "70.0",
         "785",
         "116.0",
         "91.0",
         "Sun"
        ],
        [
         "2",
         "909",
         "167.0",
         "95.0",
         "884",
         "145.0",
         "79.0",
         "Mon"
        ],
        [
         "3",
         "836",
         "156.0",
         "105.0",
         "827",
         "138.0",
         "92.0",
         "Tue"
        ],
        [
         "4",
         "837",
         "163.0",
         "64.0",
         "832",
         "140.0",
         "94.0",
         "Wed"
        ]
       ],
       "shape": {
        "columns": 7,
        "rows": 5
       }
      },
      "text/html": [
       "<div>\n",
       "<style scoped>\n",
       "    .dataframe tbody tr th:only-of-type {\n",
       "        vertical-align: middle;\n",
       "    }\n",
       "\n",
       "    .dataframe tbody tr th {\n",
       "        vertical-align: top;\n",
       "    }\n",
       "\n",
       "    .dataframe thead th {\n",
       "        text-align: right;\n",
       "    }\n",
       "</style>\n",
       "<table border=\"1\" class=\"dataframe\">\n",
       "  <thead>\n",
       "    <tr style=\"text-align: right;\">\n",
       "      <th></th>\n",
       "      <th>Clicks_x</th>\n",
       "      <th>Enrollments_x</th>\n",
       "      <th>Payments_x</th>\n",
       "      <th>Clicks_y</th>\n",
       "      <th>Enrollments_y</th>\n",
       "      <th>Payments_y</th>\n",
       "      <th>Day</th>\n",
       "    </tr>\n",
       "  </thead>\n",
       "  <tbody>\n",
       "    <tr>\n",
       "      <th>0</th>\n",
       "      <td>687</td>\n",
       "      <td>134.0</td>\n",
       "      <td>70.0</td>\n",
       "      <td>686</td>\n",
       "      <td>105.0</td>\n",
       "      <td>34.0</td>\n",
       "      <td>Sat</td>\n",
       "    </tr>\n",
       "    <tr>\n",
       "      <th>1</th>\n",
       "      <td>779</td>\n",
       "      <td>147.0</td>\n",
       "      <td>70.0</td>\n",
       "      <td>785</td>\n",
       "      <td>116.0</td>\n",
       "      <td>91.0</td>\n",
       "      <td>Sun</td>\n",
       "    </tr>\n",
       "    <tr>\n",
       "      <th>2</th>\n",
       "      <td>909</td>\n",
       "      <td>167.0</td>\n",
       "      <td>95.0</td>\n",
       "      <td>884</td>\n",
       "      <td>145.0</td>\n",
       "      <td>79.0</td>\n",
       "      <td>Mon</td>\n",
       "    </tr>\n",
       "    <tr>\n",
       "      <th>3</th>\n",
       "      <td>836</td>\n",
       "      <td>156.0</td>\n",
       "      <td>105.0</td>\n",
       "      <td>827</td>\n",
       "      <td>138.0</td>\n",
       "      <td>92.0</td>\n",
       "      <td>Tue</td>\n",
       "    </tr>\n",
       "    <tr>\n",
       "      <th>4</th>\n",
       "      <td>837</td>\n",
       "      <td>163.0</td>\n",
       "      <td>64.0</td>\n",
       "      <td>832</td>\n",
       "      <td>140.0</td>\n",
       "      <td>94.0</td>\n",
       "      <td>Wed</td>\n",
       "    </tr>\n",
       "  </tbody>\n",
       "</table>\n",
       "</div>"
      ],
      "text/plain": [
       "   Clicks_x  Enrollments_x  Payments_x  Clicks_y  Enrollments_y  Payments_y  \\\n",
       "0       687          134.0        70.0       686          105.0        34.0   \n",
       "1       779          147.0        70.0       785          116.0        91.0   \n",
       "2       909          167.0        95.0       884          145.0        79.0   \n",
       "3       836          156.0       105.0       827          138.0        92.0   \n",
       "4       837          163.0        64.0       832          140.0        94.0   \n",
       "\n",
       "   Day  \n",
       "0  Sat  \n",
       "1  Sun  \n",
       "2  Mon  \n",
       "3  Tue  \n",
       "4  Wed  "
      ]
     },
     "execution_count": 25,
     "metadata": {},
     "output_type": "execute_result"
    }
   ],
   "source": [
    "df_temp = pd.merge(control_sliced, experiment_sliced, on=\"Date\", how=\"left\")\n",
    "df_temp['Day'] = df_temp['Date'].apply(lambda x:x[:3]).tolist()\n",
    "df_temp = df_temp.drop(['Date', 'Pageviews_x','Pageviews_y'],axis=1)\n",
    "df_temp.head()"
   ]
  },
  {
   "cell_type": "code",
   "execution_count": 26,
   "metadata": {},
   "outputs": [
    {
     "name": "stderr",
     "output_type": "stream",
     "text": [
      "C:\\Users\\ELIZABETH\\AppData\\Local\\Temp\\ipykernel_10944\\3120655022.py:1: FutureWarning: The 'axis' keyword in DataFrame.groupby is deprecated and will be removed in a future version.\n",
      "  temp = df_temp.groupby(by='Day', axis=0).sum()\n"
     ]
    },
    {
     "data": {
      "application/vnd.microsoft.datawrangler.viewer.v0+json": {
       "columns": [
        {
         "name": "Day",
         "rawType": "object",
         "type": "string"
        },
        {
         "name": "Clicks_x",
         "rawType": "int64",
         "type": "integer"
        },
        {
         "name": "Enrollments_x",
         "rawType": "float64",
         "type": "float"
        },
        {
         "name": "Payments_x",
         "rawType": "float64",
         "type": "float"
        },
        {
         "name": "Clicks_y",
         "rawType": "int64",
         "type": "integer"
        },
        {
         "name": "Enrollments_y",
         "rawType": "float64",
         "type": "float"
        },
        {
         "name": "Payments_y",
         "rawType": "float64",
         "type": "float"
        }
       ],
       "conversionMethod": "pd.DataFrame",
       "ref": "d630ae7d-44b4-4eb0-9a6d-bbc4600caa40",
       "rows": [
        [
         "Mon",
         "2529",
         "565.0",
         "316.0",
         "2515",
         "511.0",
         "296.0"
        ],
        [
         "Tue",
         "2439",
         "506.0",
         "301.0",
         "2427",
         "443.0",
         "283.0"
        ],
        [
         "Wed",
         "2414",
         "521.0",
         "242.0",
         "2360",
         "469.0",
         "260.0"
        ],
        [
         "Thu",
         "2222",
         "432.0",
         "213.0",
         "2158",
         "458.0",
         "196.0"
        ],
        [
         "Fri",
         "2127",
         "540.0",
         "299.0",
         "2199",
         "503.0",
         "261.0"
        ],
        [
         "Sat",
         "2691",
         "576.0",
         "361.0",
         "2702",
         "468.0",
         "277.0"
        ],
        [
         "Sun",
         "2871",
         "645.0",
         "301.0",
         "2899",
         "571.0",
         "372.0"
        ]
       ],
       "shape": {
        "columns": 6,
        "rows": 7
       }
      },
      "text/html": [
       "<div>\n",
       "<style scoped>\n",
       "    .dataframe tbody tr th:only-of-type {\n",
       "        vertical-align: middle;\n",
       "    }\n",
       "\n",
       "    .dataframe tbody tr th {\n",
       "        vertical-align: top;\n",
       "    }\n",
       "\n",
       "    .dataframe thead th {\n",
       "        text-align: right;\n",
       "    }\n",
       "</style>\n",
       "<table border=\"1\" class=\"dataframe\">\n",
       "  <thead>\n",
       "    <tr style=\"text-align: right;\">\n",
       "      <th></th>\n",
       "      <th>Clicks_x</th>\n",
       "      <th>Enrollments_x</th>\n",
       "      <th>Payments_x</th>\n",
       "      <th>Clicks_y</th>\n",
       "      <th>Enrollments_y</th>\n",
       "      <th>Payments_y</th>\n",
       "    </tr>\n",
       "    <tr>\n",
       "      <th>Day</th>\n",
       "      <th></th>\n",
       "      <th></th>\n",
       "      <th></th>\n",
       "      <th></th>\n",
       "      <th></th>\n",
       "      <th></th>\n",
       "    </tr>\n",
       "  </thead>\n",
       "  <tbody>\n",
       "    <tr>\n",
       "      <th>Mon</th>\n",
       "      <td>2529</td>\n",
       "      <td>565.0</td>\n",
       "      <td>316.0</td>\n",
       "      <td>2515</td>\n",
       "      <td>511.0</td>\n",
       "      <td>296.0</td>\n",
       "    </tr>\n",
       "    <tr>\n",
       "      <th>Tue</th>\n",
       "      <td>2439</td>\n",
       "      <td>506.0</td>\n",
       "      <td>301.0</td>\n",
       "      <td>2427</td>\n",
       "      <td>443.0</td>\n",
       "      <td>283.0</td>\n",
       "    </tr>\n",
       "    <tr>\n",
       "      <th>Wed</th>\n",
       "      <td>2414</td>\n",
       "      <td>521.0</td>\n",
       "      <td>242.0</td>\n",
       "      <td>2360</td>\n",
       "      <td>469.0</td>\n",
       "      <td>260.0</td>\n",
       "    </tr>\n",
       "    <tr>\n",
       "      <th>Thu</th>\n",
       "      <td>2222</td>\n",
       "      <td>432.0</td>\n",
       "      <td>213.0</td>\n",
       "      <td>2158</td>\n",
       "      <td>458.0</td>\n",
       "      <td>196.0</td>\n",
       "    </tr>\n",
       "    <tr>\n",
       "      <th>Fri</th>\n",
       "      <td>2127</td>\n",
       "      <td>540.0</td>\n",
       "      <td>299.0</td>\n",
       "      <td>2199</td>\n",
       "      <td>503.0</td>\n",
       "      <td>261.0</td>\n",
       "    </tr>\n",
       "    <tr>\n",
       "      <th>Sat</th>\n",
       "      <td>2691</td>\n",
       "      <td>576.0</td>\n",
       "      <td>361.0</td>\n",
       "      <td>2702</td>\n",
       "      <td>468.0</td>\n",
       "      <td>277.0</td>\n",
       "    </tr>\n",
       "    <tr>\n",
       "      <th>Sun</th>\n",
       "      <td>2871</td>\n",
       "      <td>645.0</td>\n",
       "      <td>301.0</td>\n",
       "      <td>2899</td>\n",
       "      <td>571.0</td>\n",
       "      <td>372.0</td>\n",
       "    </tr>\n",
       "  </tbody>\n",
       "</table>\n",
       "</div>"
      ],
      "text/plain": [
       "     Clicks_x  Enrollments_x  Payments_x  Clicks_y  Enrollments_y  Payments_y\n",
       "Day                                                                          \n",
       "Mon      2529          565.0       316.0      2515          511.0       296.0\n",
       "Tue      2439          506.0       301.0      2427          443.0       283.0\n",
       "Wed      2414          521.0       242.0      2360          469.0       260.0\n",
       "Thu      2222          432.0       213.0      2158          458.0       196.0\n",
       "Fri      2127          540.0       299.0      2199          503.0       261.0\n",
       "Sat      2691          576.0       361.0      2702          468.0       277.0\n",
       "Sun      2871          645.0       301.0      2899          571.0       372.0"
      ]
     },
     "execution_count": 26,
     "metadata": {},
     "output_type": "execute_result"
    }
   ],
   "source": [
    "temp = df_temp.groupby(by='Day', axis=0).sum()\n",
    "temp = temp.reindex(['Mon','Tue','Wed','Thu','Fri','Sat','Sun'])\n",
    "temp"
   ]
  },
  {
   "cell_type": "code",
   "execution_count": 27,
   "metadata": {},
   "outputs": [
    {
     "data": {
      "application/vnd.microsoft.datawrangler.viewer.v0+json": {
       "columns": [
        {
         "name": "Day",
         "rawType": "object",
         "type": "string"
        },
        {
         "name": "GC_cont",
         "rawType": "float64",
         "type": "float"
        },
        {
         "name": "GC_exp",
         "rawType": "float64",
         "type": "float"
        },
        {
         "name": "diff_GC",
         "rawType": "float64",
         "type": "float"
        },
        {
         "name": "NC_cont",
         "rawType": "float64",
         "type": "float"
        },
        {
         "name": "NC_exp",
         "rawType": "float64",
         "type": "float"
        },
        {
         "name": "diff_NC",
         "rawType": "float64",
         "type": "float"
        }
       ],
       "conversionMethod": "pd.DataFrame",
       "ref": "ff9d3547-e11b-41fa-a10e-af2b47d4fb72",
       "rows": [
        [
         "Mon",
         "0.22340846184262556",
         "0.20318091451292247",
         "-0.020227547329703083",
         "0.12495057334914986",
         "0.11769383697813121",
         "-0.007256736371018646"
        ],
        [
         "Tue",
         "0.2074620746207462",
         "0.18252987227029255",
         "-0.024932202350453653",
         "0.12341123411234112",
         "0.11660486196950968",
         "-0.006806372142831432"
        ],
        [
         "Wed",
         "0.21582435791217897",
         "0.19872881355932204",
         "-0.01709554435285693",
         "0.10024855012427507",
         "0.11016949152542373",
         "0.009920941401148659"
        ],
        [
         "Thu",
         "0.19441944194419442",
         "0.21223354958294718",
         "0.01781410763875277",
         "0.09585958595859587",
         "0.09082483781278962",
         "-0.005034748145806248"
        ],
        [
         "Fri",
         "0.2538787023977433",
         "0.22874033651659845",
         "-0.025138365881144847",
         "0.14057357780912083",
         "0.11869031377899045",
         "-0.021883264030130384"
        ],
        [
         "Sat",
         "0.2140468227424749",
         "0.17320503330866024",
         "-0.04084178943381467",
         "0.13415087328130806",
         "0.10251665433012583",
         "-0.031634218951182236"
        ],
        [
         "Sun",
         "0.22466039707419017",
         "0.19696447050707142",
         "-0.02769592656711875",
         "0.10484151863462209",
         "0.12832011038289065",
         "0.023478591748268565"
        ]
       ],
       "shape": {
        "columns": 6,
        "rows": 7
       }
      },
      "text/html": [
       "<div>\n",
       "<style scoped>\n",
       "    .dataframe tbody tr th:only-of-type {\n",
       "        vertical-align: middle;\n",
       "    }\n",
       "\n",
       "    .dataframe tbody tr th {\n",
       "        vertical-align: top;\n",
       "    }\n",
       "\n",
       "    .dataframe thead th {\n",
       "        text-align: right;\n",
       "    }\n",
       "</style>\n",
       "<table border=\"1\" class=\"dataframe\">\n",
       "  <thead>\n",
       "    <tr style=\"text-align: right;\">\n",
       "      <th></th>\n",
       "      <th>GC_cont</th>\n",
       "      <th>GC_exp</th>\n",
       "      <th>diff_GC</th>\n",
       "      <th>NC_cont</th>\n",
       "      <th>NC_exp</th>\n",
       "      <th>diff_NC</th>\n",
       "    </tr>\n",
       "    <tr>\n",
       "      <th>Day</th>\n",
       "      <th></th>\n",
       "      <th></th>\n",
       "      <th></th>\n",
       "      <th></th>\n",
       "      <th></th>\n",
       "      <th></th>\n",
       "    </tr>\n",
       "  </thead>\n",
       "  <tbody>\n",
       "    <tr>\n",
       "      <th>Mon</th>\n",
       "      <td>0.223408</td>\n",
       "      <td>0.203181</td>\n",
       "      <td>-0.020228</td>\n",
       "      <td>0.124951</td>\n",
       "      <td>0.117694</td>\n",
       "      <td>-0.007257</td>\n",
       "    </tr>\n",
       "    <tr>\n",
       "      <th>Tue</th>\n",
       "      <td>0.207462</td>\n",
       "      <td>0.182530</td>\n",
       "      <td>-0.024932</td>\n",
       "      <td>0.123411</td>\n",
       "      <td>0.116605</td>\n",
       "      <td>-0.006806</td>\n",
       "    </tr>\n",
       "    <tr>\n",
       "      <th>Wed</th>\n",
       "      <td>0.215824</td>\n",
       "      <td>0.198729</td>\n",
       "      <td>-0.017096</td>\n",
       "      <td>0.100249</td>\n",
       "      <td>0.110169</td>\n",
       "      <td>0.009921</td>\n",
       "    </tr>\n",
       "    <tr>\n",
       "      <th>Thu</th>\n",
       "      <td>0.194419</td>\n",
       "      <td>0.212234</td>\n",
       "      <td>0.017814</td>\n",
       "      <td>0.095860</td>\n",
       "      <td>0.090825</td>\n",
       "      <td>-0.005035</td>\n",
       "    </tr>\n",
       "    <tr>\n",
       "      <th>Fri</th>\n",
       "      <td>0.253879</td>\n",
       "      <td>0.228740</td>\n",
       "      <td>-0.025138</td>\n",
       "      <td>0.140574</td>\n",
       "      <td>0.118690</td>\n",
       "      <td>-0.021883</td>\n",
       "    </tr>\n",
       "    <tr>\n",
       "      <th>Sat</th>\n",
       "      <td>0.214047</td>\n",
       "      <td>0.173205</td>\n",
       "      <td>-0.040842</td>\n",
       "      <td>0.134151</td>\n",
       "      <td>0.102517</td>\n",
       "      <td>-0.031634</td>\n",
       "    </tr>\n",
       "    <tr>\n",
       "      <th>Sun</th>\n",
       "      <td>0.224660</td>\n",
       "      <td>0.196964</td>\n",
       "      <td>-0.027696</td>\n",
       "      <td>0.104842</td>\n",
       "      <td>0.128320</td>\n",
       "      <td>0.023479</td>\n",
       "    </tr>\n",
       "  </tbody>\n",
       "</table>\n",
       "</div>"
      ],
      "text/plain": [
       "      GC_cont    GC_exp   diff_GC   NC_cont    NC_exp   diff_NC\n",
       "Day                                                            \n",
       "Mon  0.223408  0.203181 -0.020228  0.124951  0.117694 -0.007257\n",
       "Tue  0.207462  0.182530 -0.024932  0.123411  0.116605 -0.006806\n",
       "Wed  0.215824  0.198729 -0.017096  0.100249  0.110169  0.009921\n",
       "Thu  0.194419  0.212234  0.017814  0.095860  0.090825 -0.005035\n",
       "Fri  0.253879  0.228740 -0.025138  0.140574  0.118690 -0.021883\n",
       "Sat  0.214047  0.173205 -0.040842  0.134151  0.102517 -0.031634\n",
       "Sun  0.224660  0.196964 -0.027696  0.104842  0.128320  0.023479"
      ]
     },
     "execution_count": 27,
     "metadata": {},
     "output_type": "execute_result"
    }
   ],
   "source": [
    "week_data = pd.DataFrame(columns=['GC_cont','GC_exp','diff_GC','NC_cont','NC_exp','diff_NC'],index=temp.index)\n",
    "week_data['GC_cont'] = temp['Enrollments_x']/temp['Clicks_x']\n",
    "week_data['GC_exp'] = temp['Enrollments_y']/temp['Clicks_y']\n",
    "week_data['NC_cont'] = temp['Payments_x']/temp['Clicks_x']\n",
    "week_data['NC_exp'] = temp['Payments_y']/temp['Clicks_y']\n",
    "week_data['diff_GC'] = week_data['GC_exp']-week_data['GC_cont']\n",
    "week_data['diff_NC'] = week_data['NC_exp']-week_data['NC_cont']\n",
    "\n",
    "week_data"
   ]
  },
  {
   "cell_type": "code",
   "execution_count": 28,
   "metadata": {
    "scrolled": true
   },
   "outputs": [
    {
     "data": {
      "image/png": "[encoded data removed]",
      "text/plain": [
       "<Figure size 1200x500 with 2 Axes>"
      ]
     },
     "metadata": {},
     "output_type": "display_data"
    }
   ],
   "source": [
    "# visualization for GC\n",
    "x=np.arange(7)\n",
    "plt.figure(figsize=(12,5))\n",
    "\n",
    "\n",
    "plt.subplot(121)\n",
    "cont1= week_data['GC_cont']\n",
    "exp1=week_data['GC_exp'] \n",
    "\n",
    "bar_width=0.3\n",
    "tick_label=week_data.index\n",
    "\n",
    "plt.bar(x,cont1,bar_width,color='lightblue',label='control')\n",
    "plt.bar(x+bar_width,exp1,bar_width,color='salmon',label='experiment')\n",
    "plt.xticks(x+bar_width/2,tick_label)\n",
    "plt.title('Gross Conversion between Control and Experiment Groups')\n",
    "\n",
    "\n",
    "plt.subplot(122)\n",
    "cont2= week_data['NC_cont'] \n",
    "exp2=week_data['NC_exp'] \n",
    "\n",
    "bar_width=0.3\n",
    "tick_label=week_data.index\n",
    "\n",
    "plt.bar(x,cont2,bar_width,color='lightblue',label='control')\n",
    "plt.bar(x+bar_width,exp2,bar_width,color='salmon',label='experiment')\n",
    "plt.xticks(x+bar_width/2,tick_label)\n",
    "plt.title('Net Conversion between Control and Experiment Groups')\n",
    "plt.legend()\n",
    "\n",
    "plt.show()"
   ]
  },
  {
   "cell_type": "markdown",
   "metadata": {},
   "source": [
    "From charts above, we can see this experiment are less effective for gross conversion on Thursday, with regards to the net conversion, Wednesday and Sunday are not effective. We can also see this experiment for net conversion are more fluctuated in a week."
   ]
  },
  {
   "cell_type": "markdown",
   "metadata": {},
   "source": [
    "## Results Interpretation & Recommendations"
   ]
  },
  {
   "cell_type": "markdown",
   "metadata": {},
   "source": [
    "1. Gross conversion: the observed gross conversion in the experiment group is around 2.06% less than the gross conversion observed in the control group. Also, we see that values in the confidence interval are congruent with a negative effect. Since these values are less than the dmin (the smallest impact size considered to be business-related), the impact seems to be statiscally and practically significant. What is more, the impact of this test is much larger on Sundays while there is nearly no impact on Thursdays.\n",
    "\n",
    "2. Net conversion: Although we cannot reject the null hypothesis for this test, we see that the observed net conversion in the experiment group is around 0.49% less than the net conversion observed in the control group. Therefore, for this test, the impact is not significant neither in stastics or business issue. \n",
    "\n",
    "Based on these results, we can assume that this change may indeed help to set clearer expectations for students upfront. However, the results show that only gross conversion is practically and statiscally significant, not both gross and net converison. So we can further assume that this experiment is effective for decreasing the free trial enrollment, but payments cannot be converted. Therefore, my recommend is not to launch, instead, we should do some further experiments."
   ]
  },
  {
   "cell_type": "markdown",
   "metadata": {},
   "source": [
    "# Follow-Up Experiment: How to Reduce Early Cancellations"
   ]
  },
  {
   "cell_type": "markdown",
   "metadata": {},
   "source": [
    "Given that Udacity want to reduce early cancellation (early cancellation is the cancellation before the end of the 14-day free trial period that triggered the payment), we can consider from two ascpects: before the free trial enrollment and after the enrollment.\n",
    "\n",
    "1. Before the free trial enrollment, our goal is to let users with more purchasing potential enroll meanwhile guide other users to access free course materials, which may attract more potential users in the long term. Therefore, based on the experiment we've done, this time we can improve the form regarding the time commitment. Firstly, this form is only used to filter students who cannot devote enough time, however, it does not contain prerequisites for the course. Some students may spend a fairly long time on this course but they are still frustrated due to lack of prerequisite knowledge. Therefore, we should also notice students the prerequisites for the course on the form. Secondly, we also need to convert non-purchasing potential student to obtain the free course materials. So if some students do not meet the commitment and prerequisites, the form should have a button that allows students to directly convert to access free course materials.  \n",
    "   Therefore, we could launch this experiment again, but add the click through probability for the free course material as variant metric. (free course material click through probability: number of unique cookies to click the \"free course material\" button divided by number of unique cookies to view the course overview page).  \n",
    "   A successful experiment would be a significant decrease in the total conversion and a significant increase in the net conversion rate and the free course materials click through probability.  \n",
    "    \n",
    "    \n",
    "2. For the users who have already enrolled, it is necessary to improve their user experience and make them more satisfied, so that they are willing to stay. Due to the limited coaching resources, I think the interaction between students can be increased. An effective method might be to have students led by a tutor form a group. Students can learn from and help each other, and it may also have a potential sense of competition. In this way, the group can make students more motivated and have a sense of belonging, which may lead to retention.  \n",
    "\n",
    "     - The experiment design:\n",
    "       For the students who have enrolled, randomly assgin them to experiment group and control group. In the experiment group, students will be assigned to the groups according to their mentors. And in the control group, students will not be assigned.\n",
    "         \n",
    "     - Unit of Diversion: the unit of diversion will be user-ids, because this experiment will occur after students enrolling the free trial where they should create accounts or sign in.\n",
    "     \n",
    "     - Hypothesis:\n",
    "       Null Hypotheis: Setting groups will not increase significantly the number of students who will continue their course after 14 days free trial.\n",
    "       Alternative Hypothesis: Setting groups will increase significantly the number of students who will continue their course after 14 days free trial.\n",
    "       \n",
    "     - Invariant Metrics: the invariant metric should be the number of user-ids as it is the data that we can collect before the change and it is dependent on the unit of diversion for this experiment.\n",
    "     \n",
    "     - Evaluation Metrics: the evaluation metric will be rentention. Retention is the number of user-ids to remain enrolled past the 14-day boundary (and thus make at least one payment) divided by number of user-ids to complete checkout. \n",
    "     \n",
    "   If a statistically and practically significant positive change in retention is observed, given the sanity check is passed, assuming the resources and cost is acceptable for Udacity, then we can launch this experiment.\n",
    "     \n",
    "\n",
    "Reference:\n",
    "\n",
    "https://github.com/baumanab/udacity_ABTesting#summary  \n",
    "\n",
    "https://www.kaggle.com/mariusmesserschmied/udacity-a-b-testing-final-course-project/comments\n",
    "   \n",
    "   "
   ]
  }
 ],
 "metadata": {
  "kernelspec": {
   "display_name": "data_env",
   "language": "python",
   "name": "python3"
  },
  "language_info": {
   "codemirror_mode": {
    "name": "ipython",
    "version": 3
   },
   "file_extension": ".py",
   "mimetype": "text/x-python",
   "name": "python",
   "nbconvert_exporter": "python",
   "pygments_lexer": "ipython3",
   "version": "3.13.0"
  },
  "toc": {
   "base_numbering": 1,
   "nav_menu": {},
   "number_sections": true,
   "sideBar": true,
   "skip_h1_title": false,
   "title_cell": "Table of Contents",
   "title_sidebar": "Contents",
   "toc_cell": false,
   "toc_position": {
    "height": "calc(100% - 180px)",
    "left": "10px",
    "top": "150px",
    "width": "288px"
   },
   "toc_section_display": true,
   "toc_window_display": true
  }
 },
 "nbformat": 4,
 "nbformat_minor": 2
}
